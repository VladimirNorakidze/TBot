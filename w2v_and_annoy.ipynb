{
 "cells": [
  {
   "cell_type": "markdown",
   "metadata": {},
   "source": [
    "\n",
    "Загрузим данные и обработаем их (fillna, pymorphy2-лемматизация)"
   ]
  },
  {
   "cell_type": "code",
   "execution_count": 1,
   "metadata": {},
   "outputs": [],
   "source": [
    "import numpy as np\n",
    "import pandas as pd\n",
    "import seaborn as sns"
   ]
  },
  {
   "cell_type": "code",
   "execution_count": 2,
   "metadata": {},
   "outputs": [
    {
     "data": {
      "text/html": [
       "<div>\n",
       "<style scoped>\n",
       "    .dataframe tbody tr th:only-of-type {\n",
       "        vertical-align: middle;\n",
       "    }\n",
       "\n",
       "    .dataframe tbody tr th {\n",
       "        vertical-align: top;\n",
       "    }\n",
       "\n",
       "    .dataframe thead th {\n",
       "        text-align: right;\n",
       "    }\n",
       "</style>\n",
       "<table border=\"1\" class=\"dataframe\">\n",
       "  <thead>\n",
       "    <tr style=\"text-align: right;\">\n",
       "      <th></th>\n",
       "      <th>id</th>\n",
       "      <th>start_time</th>\n",
       "      <th>title</th>\n",
       "      <th>price</th>\n",
       "      <th>item_id</th>\n",
       "      <th>owner_type</th>\n",
       "      <th>category</th>\n",
       "      <th>subcategory</th>\n",
       "      <th>param1</th>\n",
       "      <th>param2</th>\n",
       "      <th>param3</th>\n",
       "      <th>region</th>\n",
       "      <th>item_views</th>\n",
       "    </tr>\n",
       "  </thead>\n",
       "  <tbody>\n",
       "    <tr>\n",
       "      <th>220113</th>\n",
       "      <td>92856</td>\n",
       "      <td>2016-12-26 13:59:51</td>\n",
       "      <td>Стелс Навигатор 300</td>\n",
       "      <td>5600</td>\n",
       "      <td>7432626551027535686</td>\n",
       "      <td>Company</td>\n",
       "      <td>Хобби и отдых</td>\n",
       "      <td>Велосипеды</td>\n",
       "      <td>Дорожные</td>\n",
       "      <td>NaN</td>\n",
       "      <td>NaN</td>\n",
       "      <td>Рязанская область</td>\n",
       "      <td>3.583519</td>\n",
       "    </tr>\n",
       "    <tr>\n",
       "      <th>189314</th>\n",
       "      <td>313156</td>\n",
       "      <td>2016-12-27 15:46:34</td>\n",
       "      <td>Рация MegaGet</td>\n",
       "      <td>2600</td>\n",
       "      <td>1772250674640507725</td>\n",
       "      <td>Private</td>\n",
       "      <td>Транспорт</td>\n",
       "      <td>Запчасти и аксессуары</td>\n",
       "      <td>Аудио- и видеотехника</td>\n",
       "      <td>NaN</td>\n",
       "      <td>NaN</td>\n",
       "      <td>Алтайский край</td>\n",
       "      <td>3.806662</td>\n",
       "    </tr>\n",
       "    <tr>\n",
       "      <th>224528</th>\n",
       "      <td>3933</td>\n",
       "      <td>2016-12-28 20:46:16</td>\n",
       "      <td>Чишки малышки</td>\n",
       "      <td>0</td>\n",
       "      <td>7759177092156880625</td>\n",
       "      <td>Private</td>\n",
       "      <td>Животные</td>\n",
       "      <td>Собаки</td>\n",
       "      <td>Чихуахуа</td>\n",
       "      <td>NaN</td>\n",
       "      <td>NaN</td>\n",
       "      <td>Самарская область</td>\n",
       "      <td>1.098612</td>\n",
       "    </tr>\n",
       "    <tr>\n",
       "      <th>109714</th>\n",
       "      <td>260614</td>\n",
       "      <td>2016-12-27 08:32:43</td>\n",
       "      <td>Женская норковая шляпка</td>\n",
       "      <td>750</td>\n",
       "      <td>8909990959157446759</td>\n",
       "      <td>Company</td>\n",
       "      <td>Личные вещи</td>\n",
       "      <td>Одежда, обувь, аксессуары</td>\n",
       "      <td>Женская одежда</td>\n",
       "      <td>Верхняя одежда</td>\n",
       "      <td>&gt; 50 (XXL)</td>\n",
       "      <td>Челябинская область</td>\n",
       "      <td>2.484907</td>\n",
       "    </tr>\n",
       "    <tr>\n",
       "      <th>334989</th>\n",
       "      <td>182367</td>\n",
       "      <td>2016-12-27 16:09:23</td>\n",
       "      <td>Xbox 360 slim</td>\n",
       "      <td>6000</td>\n",
       "      <td>8857699640757062708</td>\n",
       "      <td>Company</td>\n",
       "      <td>Бытовая электроника</td>\n",
       "      <td>Игры, приставки и программы</td>\n",
       "      <td>Игровые приставки</td>\n",
       "      <td>NaN</td>\n",
       "      <td>NaN</td>\n",
       "      <td>Москва</td>\n",
       "      <td>5.204007</td>\n",
       "    </tr>\n",
       "    <tr>\n",
       "      <th>83823</th>\n",
       "      <td>398400</td>\n",
       "      <td>2016-12-26 14:01:48</td>\n",
       "      <td>Шины Hankook Ventus R-S3 комплект</td>\n",
       "      <td>6000</td>\n",
       "      <td>5774414094527232318</td>\n",
       "      <td>Private</td>\n",
       "      <td>Транспорт</td>\n",
       "      <td>Запчасти и аксессуары</td>\n",
       "      <td>Шины, диски и колёса</td>\n",
       "      <td>Шины</td>\n",
       "      <td>17</td>\n",
       "      <td>Москва</td>\n",
       "      <td>4.127134</td>\n",
       "    </tr>\n",
       "    <tr>\n",
       "      <th>25824</th>\n",
       "      <td>399000</td>\n",
       "      <td>2016-12-28 16:45:00</td>\n",
       "      <td>Солянка мультфильмов</td>\n",
       "      <td>250</td>\n",
       "      <td>2504167105624397158</td>\n",
       "      <td>Private</td>\n",
       "      <td>Бытовая электроника</td>\n",
       "      <td>Аудио и видео</td>\n",
       "      <td>Музыка и фильмы</td>\n",
       "      <td>NaN</td>\n",
       "      <td>NaN</td>\n",
       "      <td>Москва</td>\n",
       "      <td>2.484907</td>\n",
       "    </tr>\n",
       "    <tr>\n",
       "      <th>181325</th>\n",
       "      <td>105269</td>\n",
       "      <td>2016-12-26 20:05:40</td>\n",
       "      <td>Бюстгалтера пакетом</td>\n",
       "      <td>150</td>\n",
       "      <td>2767005583550412750</td>\n",
       "      <td>Private</td>\n",
       "      <td>Личные вещи</td>\n",
       "      <td>Одежда, обувь, аксессуары</td>\n",
       "      <td>Женская одежда</td>\n",
       "      <td>Нижнее бельё</td>\n",
       "      <td>40–42 (XS)</td>\n",
       "      <td>Нижегородская область</td>\n",
       "      <td>4.343805</td>\n",
       "    </tr>\n",
       "    <tr>\n",
       "      <th>180421</th>\n",
       "      <td>293084</td>\n",
       "      <td>2016-12-26 18:02:53</td>\n",
       "      <td>Alpine 9861Ri + пульт управления</td>\n",
       "      <td>11000</td>\n",
       "      <td>1870912892927125104</td>\n",
       "      <td>Private</td>\n",
       "      <td>Транспорт</td>\n",
       "      <td>Запчасти и аксессуары</td>\n",
       "      <td>Аудио- и видеотехника</td>\n",
       "      <td>NaN</td>\n",
       "      <td>NaN</td>\n",
       "      <td>Челябинская область</td>\n",
       "      <td>4.672829</td>\n",
       "    </tr>\n",
       "    <tr>\n",
       "      <th>365325</th>\n",
       "      <td>120826</td>\n",
       "      <td>2016-12-27 19:31:15</td>\n",
       "      <td>Кеды красные для девочек</td>\n",
       "      <td>300</td>\n",
       "      <td>4489425432549137573</td>\n",
       "      <td>Company</td>\n",
       "      <td>Личные вещи</td>\n",
       "      <td>Детская одежда и обувь</td>\n",
       "      <td>Для девочек</td>\n",
       "      <td>Обувь</td>\n",
       "      <td>26</td>\n",
       "      <td>Ханты-Мансийский АО</td>\n",
       "      <td>2.302585</td>\n",
       "    </tr>\n",
       "    <tr>\n",
       "      <th>284648</th>\n",
       "      <td>151624</td>\n",
       "      <td>2016-12-28 11:01:03</td>\n",
       "      <td>Куртка зимняя</td>\n",
       "      <td>600</td>\n",
       "      <td>5361711455743322584</td>\n",
       "      <td>Private</td>\n",
       "      <td>Личные вещи</td>\n",
       "      <td>Одежда, обувь, аксессуары</td>\n",
       "      <td>Женская одежда</td>\n",
       "      <td>Верхняя одежда</td>\n",
       "      <td>42–44 (S)</td>\n",
       "      <td>Кировская область</td>\n",
       "      <td>3.218876</td>\n",
       "    </tr>\n",
       "  </tbody>\n",
       "</table>\n",
       "</div>"
      ],
      "text/plain": [
       "            id           start_time                              title  price  \\\n",
       "220113   92856  2016-12-26 13:59:51                Стелс Навигатор 300   5600   \n",
       "189314  313156  2016-12-27 15:46:34                      Рация MegaGet   2600   \n",
       "224528    3933  2016-12-28 20:46:16                      Чишки малышки      0   \n",
       "109714  260614  2016-12-27 08:32:43            Женская норковая шляпка    750   \n",
       "334989  182367  2016-12-27 16:09:23                      Xbox 360 slim   6000   \n",
       "83823   398400  2016-12-26 14:01:48  Шины Hankook Ventus R-S3 комплект   6000   \n",
       "25824   399000  2016-12-28 16:45:00               Солянка мультфильмов    250   \n",
       "181325  105269  2016-12-26 20:05:40                Бюстгалтера пакетом    150   \n",
       "180421  293084  2016-12-26 18:02:53   Alpine 9861Ri + пульт управления  11000   \n",
       "365325  120826  2016-12-27 19:31:15           Кеды красные для девочек    300   \n",
       "284648  151624  2016-12-28 11:01:03                      Куртка зимняя    600   \n",
       "\n",
       "                    item_id owner_type             category  \\\n",
       "220113  7432626551027535686    Company        Хобби и отдых   \n",
       "189314  1772250674640507725    Private            Транспорт   \n",
       "224528  7759177092156880625    Private             Животные   \n",
       "109714  8909990959157446759    Company          Личные вещи   \n",
       "334989  8857699640757062708    Company  Бытовая электроника   \n",
       "83823   5774414094527232318    Private            Транспорт   \n",
       "25824   2504167105624397158    Private  Бытовая электроника   \n",
       "181325  2767005583550412750    Private          Личные вещи   \n",
       "180421  1870912892927125104    Private            Транспорт   \n",
       "365325  4489425432549137573    Company          Личные вещи   \n",
       "284648  5361711455743322584    Private          Личные вещи   \n",
       "\n",
       "                        subcategory                 param1          param2  \\\n",
       "220113                   Велосипеды               Дорожные             NaN   \n",
       "189314        Запчасти и аксессуары  Аудио- и видеотехника             NaN   \n",
       "224528                       Собаки               Чихуахуа             NaN   \n",
       "109714    Одежда, обувь, аксессуары         Женская одежда  Верхняя одежда   \n",
       "334989  Игры, приставки и программы      Игровые приставки             NaN   \n",
       "83823         Запчасти и аксессуары   Шины, диски и колёса            Шины   \n",
       "25824                 Аудио и видео        Музыка и фильмы             NaN   \n",
       "181325    Одежда, обувь, аксессуары         Женская одежда    Нижнее бельё   \n",
       "180421        Запчасти и аксессуары  Аудио- и видеотехника             NaN   \n",
       "365325       Детская одежда и обувь            Для девочек           Обувь   \n",
       "284648    Одежда, обувь, аксессуары         Женская одежда  Верхняя одежда   \n",
       "\n",
       "            param3                 region  item_views  \n",
       "220113         NaN      Рязанская область    3.583519  \n",
       "189314         NaN         Алтайский край    3.806662  \n",
       "224528         NaN      Самарская область    1.098612  \n",
       "109714  > 50 (XXL)    Челябинская область    2.484907  \n",
       "334989         NaN                 Москва    5.204007  \n",
       "83823           17                 Москва    4.127134  \n",
       "25824          NaN                 Москва    2.484907  \n",
       "181325  40–42 (XS)  Нижегородская область    4.343805  \n",
       "180421         NaN    Челябинская область    4.672829  \n",
       "365325          26    Ханты-Мансийский АО    2.302585  \n",
       "284648   42–44 (S)      Кировская область    3.218876  "
      ]
     },
     "execution_count": 2,
     "metadata": {},
     "output_type": "execute_result"
    }
   ],
   "source": [
    "data1 = pd.read_csv('data/kagle_train.csv')\n",
    "data1.sample(11)"
   ]
  },
  {
   "cell_type": "code",
   "execution_count": 3,
   "metadata": {},
   "outputs": [
    {
     "name": "stdout",
     "output_type": "stream",
     "text": [
      "<class 'pandas.core.frame.DataFrame'>\n",
      "RangeIndex: 376687 entries, 0 to 376686\n",
      "Data columns (total 4 columns):\n",
      "title     376687 non-null object\n",
      "param1    376687 non-null object\n",
      "param2    376687 non-null object\n",
      "param3    376687 non-null object\n",
      "dtypes: object(4)\n",
      "memory usage: 11.5+ MB\n"
     ]
    },
    {
     "data": {
      "text/plain": [
       "(376687, None, False)"
      ]
     },
     "execution_count": 3,
     "metadata": {},
     "output_type": "execute_result"
    }
   ],
   "source": [
    "data1 = data1[['title', 'param1', 'param2', 'param3']]\n",
    "data1 = data1.fillna('nan')\n",
    "\n",
    "len(data1), data1.info(), np.any(data1.isna())"
   ]
  },
  {
   "cell_type": "code",
   "execution_count": 6,
   "metadata": {},
   "outputs": [
    {
     "name": "stdout",
     "output_type": "stream",
     "text": [
      "data\n",
      "Ready\n",
      "Steady\n",
      "Gooo!\n"
     ]
    },
    {
     "data": {
      "text/html": [
       "<div>\n",
       "<style scoped>\n",
       "    .dataframe tbody tr th:only-of-type {\n",
       "        vertical-align: middle;\n",
       "    }\n",
       "\n",
       "    .dataframe tbody tr th {\n",
       "        vertical-align: top;\n",
       "    }\n",
       "\n",
       "    .dataframe thead th {\n",
       "        text-align: right;\n",
       "    }\n",
       "</style>\n",
       "<table border=\"1\" class=\"dataframe\">\n",
       "  <thead>\n",
       "    <tr style=\"text-align: right;\">\n",
       "      <th></th>\n",
       "      <th>title</th>\n",
       "      <th>param1</th>\n",
       "      <th>param2</th>\n",
       "      <th>param3</th>\n",
       "      <th>conc</th>\n",
       "    </tr>\n",
       "  </thead>\n",
       "  <tbody>\n",
       "    <tr>\n",
       "      <th>87508</th>\n",
       "      <td>Samsung galaxy s6 edge 32gb Samsung</td>\n",
       "      <td>Samsung</td>\n",
       "      <td>nan</td>\n",
       "      <td>nan</td>\n",
       "      <td>Samsung galaxy s6 edge 32gb Samsung</td>\n",
       "    </tr>\n",
       "    <tr>\n",
       "      <th>52348</th>\n",
       "      <td>Отдам в дар собаку. Кобель. Возраст 1-2 года Д...</td>\n",
       "      <td>Другая</td>\n",
       "      <td>nan</td>\n",
       "      <td>nan</td>\n",
       "      <td>Отдам в дар собаку. Кобель. Возраст 1-2 года Д...</td>\n",
       "    </tr>\n",
       "    <tr>\n",
       "      <th>250035</th>\n",
       "      <td>4-к квартира, 100 м?, 1/1 эт. Сдам На длительн...</td>\n",
       "      <td>Сдам</td>\n",
       "      <td>На длительный срок</td>\n",
       "      <td>4</td>\n",
       "      <td>4-к квартира, 100 м?, 1/1 эт. Сдам На длительн...</td>\n",
       "    </tr>\n",
       "    <tr>\n",
       "      <th>234358</th>\n",
       "      <td>Продам полусапожки из натуральной кожи Женская...</td>\n",
       "      <td>Женская одежда</td>\n",
       "      <td>Обувь</td>\n",
       "      <td>39</td>\n",
       "      <td>Продам полусапожки из натуральной кожи Женская...</td>\n",
       "    </tr>\n",
       "    <tr>\n",
       "      <th>267855</th>\n",
       "      <td>Карниз потолочный настенный Предметы интерьера...</td>\n",
       "      <td>Предметы интерьера, искусство</td>\n",
       "      <td>nan</td>\n",
       "      <td>nan</td>\n",
       "      <td>Карниз потолочный настенный Предметы интерьера...</td>\n",
       "    </tr>\n",
       "    <tr>\n",
       "      <th>326386</th>\n",
       "      <td>Продам котят Британская</td>\n",
       "      <td>Британская</td>\n",
       "      <td>nan</td>\n",
       "      <td>nan</td>\n",
       "      <td>Продам котят Британская</td>\n",
       "    </tr>\n",
       "    <tr>\n",
       "      <th>239145</th>\n",
       "      <td>Сапоги-валенки котофей Для девочек Обувь 25</td>\n",
       "      <td>Для девочек</td>\n",
       "      <td>Обувь</td>\n",
       "      <td>25</td>\n",
       "      <td>Сапоги-валенки котофей Для девочек Обувь 25</td>\n",
       "    </tr>\n",
       "    <tr>\n",
       "      <th>292888</th>\n",
       "      <td>Подрулевой переключатель музыки форд ци макс З...</td>\n",
       "      <td>Запчасти</td>\n",
       "      <td>Для автомобилей</td>\n",
       "      <td>Электрооборудование</td>\n",
       "      <td>Подрулевой переключатель музыки форд ци макс З...</td>\n",
       "    </tr>\n",
       "    <tr>\n",
       "      <th>289323</th>\n",
       "      <td>Изабеловые мальчик и девочка Питбуль</td>\n",
       "      <td>Питбуль</td>\n",
       "      <td>nan</td>\n",
       "      <td>nan</td>\n",
       "      <td>Изабеловые мальчик и девочка Питбуль</td>\n",
       "    </tr>\n",
       "    <tr>\n",
       "      <th>195898</th>\n",
       "      <td>Сетевое универсальное зу \"лягушка\" Аксессуары ...</td>\n",
       "      <td>Аксессуары</td>\n",
       "      <td>Зарядные устройства</td>\n",
       "      <td>nan</td>\n",
       "      <td>Сетевое универсальное зу \"лягушка\" Аксессуары ...</td>\n",
       "    </tr>\n",
       "    <tr>\n",
       "      <th>52554</th>\n",
       "      <td>Ноутбук sony vaio</td>\n",
       "      <td>nan</td>\n",
       "      <td>nan</td>\n",
       "      <td>nan</td>\n",
       "      <td>Ноутбук sony vaio</td>\n",
       "    </tr>\n",
       "  </tbody>\n",
       "</table>\n",
       "</div>"
      ],
      "text/plain": [
       "                                                    title  \\\n",
       "87508                 Samsung galaxy s6 edge 32gb Samsung   \n",
       "52348   Отдам в дар собаку. Кобель. Возраст 1-2 года Д...   \n",
       "250035  4-к квартира, 100 м?, 1/1 эт. Сдам На длительн...   \n",
       "234358  Продам полусапожки из натуральной кожи Женская...   \n",
       "267855  Карниз потолочный настенный Предметы интерьера...   \n",
       "326386                            Продам котят Британская   \n",
       "239145        Сапоги-валенки котофей Для девочек Обувь 25   \n",
       "292888  Подрулевой переключатель музыки форд ци макс З...   \n",
       "289323               Изабеловые мальчик и девочка Питбуль   \n",
       "195898  Сетевое универсальное зу \"лягушка\" Аксессуары ...   \n",
       "52554                                   Ноутбук sony vaio   \n",
       "\n",
       "                               param1               param2  \\\n",
       "87508                         Samsung                  nan   \n",
       "52348                          Другая                  nan   \n",
       "250035                           Сдам   На длительный срок   \n",
       "234358                 Женская одежда                Обувь   \n",
       "267855  Предметы интерьера, искусство                  nan   \n",
       "326386                     Британская                  nan   \n",
       "239145                    Для девочек                Обувь   \n",
       "292888                       Запчасти      Для автомобилей   \n",
       "289323                        Питбуль                  nan   \n",
       "195898                     Аксессуары  Зарядные устройства   \n",
       "52554                             nan                  nan   \n",
       "\n",
       "                     param3                                               conc  \n",
       "87508                   nan                Samsung galaxy s6 edge 32gb Samsung  \n",
       "52348                   nan  Отдам в дар собаку. Кобель. Возраст 1-2 года Д...  \n",
       "250035                    4  4-к квартира, 100 м?, 1/1 эт. Сдам На длительн...  \n",
       "234358                   39  Продам полусапожки из натуральной кожи Женская...  \n",
       "267855                  nan  Карниз потолочный настенный Предметы интерьера...  \n",
       "326386                  nan                            Продам котят Британская  \n",
       "239145                   25        Сапоги-валенки котофей Для девочек Обувь 25  \n",
       "292888  Электрооборудование  Подрулевой переключатель музыки форд ци макс З...  \n",
       "289323                  nan               Изабеловые мальчик и девочка Питбуль  \n",
       "195898                  nan  Сетевое универсальное зу \"лягушка\" Аксессуары ...  \n",
       "52554                   nan                                  Ноутбук sony vaio  "
      ]
     },
     "execution_count": 6,
     "metadata": {},
     "output_type": "execute_result"
    }
   ],
   "source": [
    "def add_col(p1):\n",
    "    res=''\n",
    "    if p1 != 'nan':\n",
    "        res += ' '+p1\n",
    "    return res\n",
    "\n",
    "data1['conc'] = data1['title']\n",
    "print('data')\n",
    "data1['conc'] += data1['param1'].apply(lambda row: add_col(row))\n",
    "print('Ready')\n",
    "data1['conc'] += data1['param2'].apply(lambda row: add_col(row))\n",
    "print('Steady')\n",
    "data1['conc'] += data1['param3'].apply(lambda row: add_col(row))\n",
    "print('Gooo!')\n",
    "data1['title'] = data1['conc']\n",
    "data1.sample(11)"
   ]
  },
  {
   "cell_type": "markdown",
   "metadata": {},
   "source": [
    "----------"
   ]
  },
  {
   "cell_type": "code",
   "execution_count": 7,
   "metadata": {},
   "outputs": [
    {
     "data": {
      "text/html": [
       "<div>\n",
       "<style scoped>\n",
       "    .dataframe tbody tr th:only-of-type {\n",
       "        vertical-align: middle;\n",
       "    }\n",
       "\n",
       "    .dataframe tbody tr th {\n",
       "        vertical-align: top;\n",
       "    }\n",
       "\n",
       "    .dataframe thead th {\n",
       "        text-align: right;\n",
       "    }\n",
       "</style>\n",
       "<table border=\"1\" class=\"dataframe\">\n",
       "  <thead>\n",
       "    <tr style=\"text-align: right;\">\n",
       "      <th></th>\n",
       "      <th>title</th>\n",
       "      <th>descrirption</th>\n",
       "      <th>product_id</th>\n",
       "      <th>category_id</th>\n",
       "      <th>subcategory_id</th>\n",
       "      <th>properties</th>\n",
       "      <th>image_links</th>\n",
       "    </tr>\n",
       "  </thead>\n",
       "  <tbody>\n",
       "    <tr>\n",
       "      <th>0</th>\n",
       "      <td>Юбка детская ORBY</td>\n",
       "      <td>Новая, не носили ни разу. В реале красивей чем...</td>\n",
       "      <td>58e3cfe6132ca50e053f5f82</td>\n",
       "      <td>22.0</td>\n",
       "      <td>2211</td>\n",
       "      <td>{'detskie_razmer_rost': '81-86 (1,5 года)'}</td>\n",
       "      <td>http://cache3.youla.io/files/images/360_360/58...</td>\n",
       "    </tr>\n",
       "    <tr>\n",
       "      <th>1</th>\n",
       "      <td>Ботильоны</td>\n",
       "      <td>Новые,привезены из Чехии ,указан размер 40,но ...</td>\n",
       "      <td>5667531b2b7f8d127d838c34</td>\n",
       "      <td>9.0</td>\n",
       "      <td>902</td>\n",
       "      <td>{'zhenskaya_odezhda_tzvet': 'Зеленый', 'visota...</td>\n",
       "      <td>http://cache3.youla.io/files/images/360_360/5b...</td>\n",
       "    </tr>\n",
       "    <tr>\n",
       "      <th>2</th>\n",
       "      <td>Брюки</td>\n",
       "      <td>Размер 40-42. Брюки почти новые - не знаю как ...</td>\n",
       "      <td>59534826aaab284cba337e06</td>\n",
       "      <td>9.0</td>\n",
       "      <td>906</td>\n",
       "      <td>{'zhenskaya_odezhda_dzhinsy_bryuki_tip': 'Брюк...</td>\n",
       "      <td>http://cache3.youla.io/files/images/360_360/59...</td>\n",
       "    </tr>\n",
       "    <tr>\n",
       "      <th>3</th>\n",
       "      <td>Продам детские шапки</td>\n",
       "      <td>Продам шапки,кажда 200р.Розовая и белая проданны.</td>\n",
       "      <td>57de544096ad842e26de8027</td>\n",
       "      <td>22.0</td>\n",
       "      <td>2217</td>\n",
       "      <td>{'detskie_pol': 'Девочкам', 'detskaya_odezhda_...</td>\n",
       "      <td>http://cache3.youla.io/files/images/360_360/57...</td>\n",
       "    </tr>\n",
       "    <tr>\n",
       "      <th>4</th>\n",
       "      <td>Блузка</td>\n",
       "      <td>Темно-синяя, 42 размер,состояние отличное,как ...</td>\n",
       "      <td>5ad4d2626c86cb168d212022</td>\n",
       "      <td>9.0</td>\n",
       "      <td>907</td>\n",
       "      <td>{'zhenskaya_odezhda_tzvet': 'Синий', 'zhenskay...</td>\n",
       "      <td>http://cache3.youla.io/files/images/360_360/5a...</td>\n",
       "    </tr>\n",
       "  </tbody>\n",
       "</table>\n",
       "</div>"
      ],
      "text/plain": [
       "                  title                                       descrirption  \\\n",
       "0     Юбка детская ORBY  Новая, не носили ни разу. В реале красивей чем...   \n",
       "1             Ботильоны  Новые,привезены из Чехии ,указан размер 40,но ...   \n",
       "2                 Брюки  Размер 40-42. Брюки почти новые - не знаю как ...   \n",
       "3  Продам детские шапки  Продам шапки,кажда 200р.Розовая и белая проданны.   \n",
       "4                Блузка  Темно-синяя, 42 размер,состояние отличное,как ...   \n",
       "\n",
       "                 product_id  category_id subcategory_id  \\\n",
       "0  58e3cfe6132ca50e053f5f82         22.0           2211   \n",
       "1  5667531b2b7f8d127d838c34          9.0            902   \n",
       "2  59534826aaab284cba337e06          9.0            906   \n",
       "3  57de544096ad842e26de8027         22.0           2217   \n",
       "4  5ad4d2626c86cb168d212022          9.0            907   \n",
       "\n",
       "                                          properties  \\\n",
       "0        {'detskie_razmer_rost': '81-86 (1,5 года)'}   \n",
       "1  {'zhenskaya_odezhda_tzvet': 'Зеленый', 'visota...   \n",
       "2  {'zhenskaya_odezhda_dzhinsy_bryuki_tip': 'Брюк...   \n",
       "3  {'detskie_pol': 'Девочкам', 'detskaya_odezhda_...   \n",
       "4  {'zhenskaya_odezhda_tzvet': 'Синий', 'zhenskay...   \n",
       "\n",
       "                                         image_links  \n",
       "0  http://cache3.youla.io/files/images/360_360/58...  \n",
       "1  http://cache3.youla.io/files/images/360_360/5b...  \n",
       "2  http://cache3.youla.io/files/images/360_360/59...  \n",
       "3  http://cache3.youla.io/files/images/360_360/57...  \n",
       "4  http://cache3.youla.io/files/images/360_360/5a...  "
      ]
     },
     "execution_count": 7,
     "metadata": {},
     "output_type": "execute_result"
    }
   ],
   "source": [
    "data2 = pd.read_csv('data/dataset_sample.csv')\n",
    "data2.head()"
   ]
  },
  {
   "cell_type": "code",
   "execution_count": 8,
   "metadata": {},
   "outputs": [
    {
     "data": {
      "text/html": [
       "<div>\n",
       "<style scoped>\n",
       "    .dataframe tbody tr th:only-of-type {\n",
       "        vertical-align: middle;\n",
       "    }\n",
       "\n",
       "    .dataframe tbody tr th {\n",
       "        vertical-align: top;\n",
       "    }\n",
       "\n",
       "    .dataframe thead th {\n",
       "        text-align: right;\n",
       "    }\n",
       "</style>\n",
       "<table border=\"1\" class=\"dataframe\">\n",
       "  <thead>\n",
       "    <tr style=\"text-align: right;\">\n",
       "      <th></th>\n",
       "      <th>title</th>\n",
       "      <th>descrirption</th>\n",
       "      <th>product_id</th>\n",
       "      <th>image_links</th>\n",
       "    </tr>\n",
       "  </thead>\n",
       "  <tbody>\n",
       "    <tr>\n",
       "      <th>33318</th>\n",
       "      <td>Платье</td>\n",
       "      <td>Трикотажное платье, с эффектом утяжки, размер ...</td>\n",
       "      <td>5be40717c3bdd289c46edc21</td>\n",
       "      <td>http://cache3.youla.io/files/images/360_360/5b...</td>\n",
       "    </tr>\n",
       "    <tr>\n",
       "      <th>30889</th>\n",
       "      <td>Детская одежда</td>\n",
       "      <td>Продаю джинсы детские в хорошем состоянии на в...</td>\n",
       "      <td>57e56d919a64a21766fc94a3</td>\n",
       "      <td>http://cache3.youla.io/files/images/360_360/57...</td>\n",
       "    </tr>\n",
       "    <tr>\n",
       "      <th>21665</th>\n",
       "      <td>футболка beatles</td>\n",
       "      <td>NaN</td>\n",
       "      <td>5a062019c887e02ba24f7ec6</td>\n",
       "      <td>http://cache3.youla.io/files/images/360_360/5a...</td>\n",
       "    </tr>\n",
       "    <tr>\n",
       "      <th>10110</th>\n",
       "      <td>Бейдж на шнурке</td>\n",
       "      <td>Упаковка бейдж на шнурке в комплекте 5 штук но...</td>\n",
       "      <td>59bbc27f62e1c6516a5d6e75</td>\n",
       "      <td>http://cache3.youla.io/files/images/360_360/59...</td>\n",
       "    </tr>\n",
       "    <tr>\n",
       "      <th>30308</th>\n",
       "      <td>Штаны тёплые</td>\n",
       "      <td>NaN</td>\n",
       "      <td>5baedb602138bb1190069e55</td>\n",
       "      <td>http://cache3.youla.io/files/images/360_360/5b...</td>\n",
       "    </tr>\n",
       "    <tr>\n",
       "      <th>4885</th>\n",
       "      <td>Рубашки для мальчика.Рост 152см.</td>\n",
       "      <td>Школьные рубашки б/у, в хорошем состоянии(без ...</td>\n",
       "      <td>5981c376f20263333f64dff5</td>\n",
       "      <td>http://cache3.youla.io/files/images/360_360/59...</td>\n",
       "    </tr>\n",
       "    <tr>\n",
       "      <th>4498</th>\n",
       "      <td>Куртка Ostin</td>\n",
       "      <td>Куртка Остин,размер S,в идеальном состоянии. П...</td>\n",
       "      <td>5a81dca5a09cd523f525d792</td>\n",
       "      <td>http://cache3.youla.io/files/images/360_360/5a...</td>\n",
       "    </tr>\n",
       "  </tbody>\n",
       "</table>\n",
       "</div>"
      ],
      "text/plain": [
       "                                  title  \\\n",
       "33318                            Платье   \n",
       "30889                    Детская одежда   \n",
       "21665                  футболка beatles   \n",
       "10110                   Бейдж на шнурке   \n",
       "30308                      Штаны тёплые   \n",
       "4885   Рубашки для мальчика.Рост 152см.   \n",
       "4498                       Куртка Ostin   \n",
       "\n",
       "                                            descrirption  \\\n",
       "33318  Трикотажное платье, с эффектом утяжки, размер ...   \n",
       "30889  Продаю джинсы детские в хорошем состоянии на в...   \n",
       "21665                                                NaN   \n",
       "10110  Упаковка бейдж на шнурке в комплекте 5 штук но...   \n",
       "30308                                                NaN   \n",
       "4885   Школьные рубашки б/у, в хорошем состоянии(без ...   \n",
       "4498   Куртка Остин,размер S,в идеальном состоянии. П...   \n",
       "\n",
       "                     product_id  \\\n",
       "33318  5be40717c3bdd289c46edc21   \n",
       "30889  57e56d919a64a21766fc94a3   \n",
       "21665  5a062019c887e02ba24f7ec6   \n",
       "10110  59bbc27f62e1c6516a5d6e75   \n",
       "30308  5baedb602138bb1190069e55   \n",
       "4885   5981c376f20263333f64dff5   \n",
       "4498   5a81dca5a09cd523f525d792   \n",
       "\n",
       "                                             image_links  \n",
       "33318  http://cache3.youla.io/files/images/360_360/5b...  \n",
       "30889  http://cache3.youla.io/files/images/360_360/57...  \n",
       "21665  http://cache3.youla.io/files/images/360_360/5a...  \n",
       "10110  http://cache3.youla.io/files/images/360_360/59...  \n",
       "30308  http://cache3.youla.io/files/images/360_360/5b...  \n",
       "4885   http://cache3.youla.io/files/images/360_360/59...  \n",
       "4498   http://cache3.youla.io/files/images/360_360/5a...  "
      ]
     },
     "execution_count": 8,
     "metadata": {},
     "output_type": "execute_result"
    }
   ],
   "source": [
    "data2 = data2[['title', 'descrirption', 'product_id', 'image_links']]\n",
    "data2.sample(7)"
   ]
  },
  {
   "cell_type": "code",
   "execution_count": 9,
   "metadata": {},
   "outputs": [
    {
     "name": "stdout",
     "output_type": "stream",
     "text": [
      "<class 'pandas.core.frame.DataFrame'>\n",
      "RangeIndex: 35548 entries, 0 to 35547\n",
      "Data columns (total 4 columns):\n",
      "title           35548 non-null object\n",
      "descrirption    33537 non-null object\n",
      "product_id      35536 non-null object\n",
      "image_links     35533 non-null object\n",
      "dtypes: object(4)\n",
      "memory usage: 1.1+ MB\n"
     ]
    },
    {
     "data": {
      "text/plain": [
       "(35548, None, True)"
      ]
     },
     "execution_count": 9,
     "metadata": {},
     "output_type": "execute_result"
    }
   ],
   "source": [
    "len(data2), data2.info(), np.any(data2.isna())"
   ]
  },
  {
   "cell_type": "markdown",
   "metadata": {},
   "source": [
    "---------"
   ]
  },
  {
   "cell_type": "code",
   "execution_count": 10,
   "metadata": {},
   "outputs": [],
   "source": [
    "# объединим выборки\n",
    "\n",
    "data = data2.append(data1[['title', 'param1', 'param2', 'param3']], ignore_index=True, sort=False)"
   ]
  },
  {
   "cell_type": "code",
   "execution_count": 11,
   "metadata": {
    "scrolled": true
   },
   "outputs": [
    {
     "data": {
      "text/html": [
       "<div>\n",
       "<style scoped>\n",
       "    .dataframe tbody tr th:only-of-type {\n",
       "        vertical-align: middle;\n",
       "    }\n",
       "\n",
       "    .dataframe tbody tr th {\n",
       "        vertical-align: top;\n",
       "    }\n",
       "\n",
       "    .dataframe thead th {\n",
       "        text-align: right;\n",
       "    }\n",
       "</style>\n",
       "<table border=\"1\" class=\"dataframe\">\n",
       "  <thead>\n",
       "    <tr style=\"text-align: right;\">\n",
       "      <th></th>\n",
       "      <th>title</th>\n",
       "      <th>descrirption</th>\n",
       "      <th>product_id</th>\n",
       "      <th>image_links</th>\n",
       "      <th>param1</th>\n",
       "      <th>param2</th>\n",
       "      <th>param3</th>\n",
       "    </tr>\n",
       "  </thead>\n",
       "  <tbody>\n",
       "    <tr>\n",
       "      <th>352788</th>\n",
       "      <td>Продам Новый Sony Xperia SP Sony</td>\n",
       "      <td>NaN</td>\n",
       "      <td>NaN</td>\n",
       "      <td>NaN</td>\n",
       "      <td>Sony</td>\n",
       "      <td>nan</td>\n",
       "      <td>nan</td>\n",
       "    </tr>\n",
       "    <tr>\n",
       "      <th>207261</th>\n",
       "      <td>Сумки для дисков (портмоне), Кейк боксы, пакет...</td>\n",
       "      <td>NaN</td>\n",
       "      <td>NaN</td>\n",
       "      <td>NaN</td>\n",
       "      <td>Расходные материалы</td>\n",
       "      <td>Болванки</td>\n",
       "      <td>nan</td>\n",
       "    </tr>\n",
       "    <tr>\n",
       "      <th>397201</th>\n",
       "      <td>Шуба Женская одежда Верхняя одежда 46–48 (L)</td>\n",
       "      <td>NaN</td>\n",
       "      <td>NaN</td>\n",
       "      <td>NaN</td>\n",
       "      <td>Женская одежда</td>\n",
       "      <td>Верхняя одежда</td>\n",
       "      <td>46–48 (L)</td>\n",
       "    </tr>\n",
       "    <tr>\n",
       "      <th>48291</th>\n",
       "      <td>ВАЗ 2105, 2001 С пробегом ВАЗ (LADA) 2105</td>\n",
       "      <td>NaN</td>\n",
       "      <td>NaN</td>\n",
       "      <td>NaN</td>\n",
       "      <td>С пробегом</td>\n",
       "      <td>ВАЗ (LADA)</td>\n",
       "      <td>2105</td>\n",
       "    </tr>\n",
       "    <tr>\n",
       "      <th>407934</th>\n",
       "      <td>Велотренажер SE-1310 Фитнес и тренажёры</td>\n",
       "      <td>NaN</td>\n",
       "      <td>NaN</td>\n",
       "      <td>NaN</td>\n",
       "      <td>Фитнес и тренажёры</td>\n",
       "      <td>nan</td>\n",
       "      <td>nan</td>\n",
       "    </tr>\n",
       "    <tr>\n",
       "      <th>137094</th>\n",
       "      <td>Игровой HP Четырех ядерный A6 turbo /500Gb/4Gb</td>\n",
       "      <td>NaN</td>\n",
       "      <td>NaN</td>\n",
       "      <td>NaN</td>\n",
       "      <td>nan</td>\n",
       "      <td>nan</td>\n",
       "      <td>nan</td>\n",
       "    </tr>\n",
       "    <tr>\n",
       "      <th>32195</th>\n",
       "      <td>Платье</td>\n",
       "      <td>NaN</td>\n",
       "      <td>5b35e242eef14155ff215790</td>\n",
       "      <td>http://cache3.youla.io/files/images/360_360/5b...</td>\n",
       "      <td>NaN</td>\n",
       "      <td>NaN</td>\n",
       "      <td>NaN</td>\n",
       "    </tr>\n",
       "    <tr>\n",
       "      <th>44581</th>\n",
       "      <td>Skoda Octavia, 2011 С пробегом Skoda Octavia</td>\n",
       "      <td>NaN</td>\n",
       "      <td>NaN</td>\n",
       "      <td>NaN</td>\n",
       "      <td>С пробегом</td>\n",
       "      <td>Skoda</td>\n",
       "      <td>Octavia</td>\n",
       "    </tr>\n",
       "    <tr>\n",
       "      <th>134928</th>\n",
       "      <td>Игровой на Core-i3 (8Gb памяти, 500Gb)</td>\n",
       "      <td>NaN</td>\n",
       "      <td>NaN</td>\n",
       "      <td>NaN</td>\n",
       "      <td>nan</td>\n",
       "      <td>nan</td>\n",
       "      <td>nan</td>\n",
       "    </tr>\n",
       "    <tr>\n",
       "      <th>365692</th>\n",
       "      <td>Ударная дрель Инструменты</td>\n",
       "      <td>NaN</td>\n",
       "      <td>NaN</td>\n",
       "      <td>NaN</td>\n",
       "      <td>Инструменты</td>\n",
       "      <td>nan</td>\n",
       "      <td>nan</td>\n",
       "    </tr>\n",
       "    <tr>\n",
       "      <th>64030</th>\n",
       "      <td>Электрический плазменный шар Тесла Игрушки</td>\n",
       "      <td>NaN</td>\n",
       "      <td>NaN</td>\n",
       "      <td>NaN</td>\n",
       "      <td>Игрушки</td>\n",
       "      <td>nan</td>\n",
       "      <td>nan</td>\n",
       "    </tr>\n",
       "    <tr>\n",
       "      <th>321519</th>\n",
       "      <td>Интернет магазины, визитки, сайты продукции IT...</td>\n",
       "      <td>NaN</td>\n",
       "      <td>NaN</td>\n",
       "      <td>NaN</td>\n",
       "      <td>IT, интернет, телеком</td>\n",
       "      <td>Cоздание и продвижение сайтов</td>\n",
       "      <td>nan</td>\n",
       "    </tr>\n",
       "    <tr>\n",
       "      <th>375567</th>\n",
       "      <td>Продавец продуктов питания Продажи Сменный график</td>\n",
       "      <td>NaN</td>\n",
       "      <td>NaN</td>\n",
       "      <td>NaN</td>\n",
       "      <td>Продажи</td>\n",
       "      <td>Сменный график</td>\n",
       "      <td>nan</td>\n",
       "    </tr>\n",
       "    <tr>\n",
       "      <th>250775</th>\n",
       "      <td>Изготовление видеороликов Фото- и видеосъёмка</td>\n",
       "      <td>NaN</td>\n",
       "      <td>NaN</td>\n",
       "      <td>NaN</td>\n",
       "      <td>Фото- и видеосъёмка</td>\n",
       "      <td>nan</td>\n",
       "      <td>nan</td>\n",
       "    </tr>\n",
       "    <tr>\n",
       "      <th>383966</th>\n",
       "      <td>Кеды adidas оригинал Для мальчиков Обувь 21</td>\n",
       "      <td>NaN</td>\n",
       "      <td>NaN</td>\n",
       "      <td>NaN</td>\n",
       "      <td>Для мальчиков</td>\n",
       "      <td>Обувь</td>\n",
       "      <td>21</td>\n",
       "    </tr>\n",
       "    <tr>\n",
       "      <th>202512</th>\n",
       "      <td>Шотландские вислоухие котята Шотландская</td>\n",
       "      <td>NaN</td>\n",
       "      <td>NaN</td>\n",
       "      <td>NaN</td>\n",
       "      <td>Шотландская</td>\n",
       "      <td>nan</td>\n",
       "      <td>nan</td>\n",
       "    </tr>\n",
       "    <tr>\n",
       "      <th>121885</th>\n",
       "      <td>Детская обувь. Осенняя Для мальчиков Обувь 29</td>\n",
       "      <td>NaN</td>\n",
       "      <td>NaN</td>\n",
       "      <td>NaN</td>\n",
       "      <td>Для мальчиков</td>\n",
       "      <td>Обувь</td>\n",
       "      <td>29</td>\n",
       "    </tr>\n",
       "    <tr>\n",
       "      <th>182634</th>\n",
       "      <td>Micromax Q380 Canvas Spark Micromax</td>\n",
       "      <td>NaN</td>\n",
       "      <td>NaN</td>\n",
       "      <td>NaN</td>\n",
       "      <td>Micromax</td>\n",
       "      <td>nan</td>\n",
       "      <td>nan</td>\n",
       "    </tr>\n",
       "    <tr>\n",
       "      <th>27646</th>\n",
       "      <td>Мужская коженная куртка</td>\n",
       "      <td>Новая турецкая куртка,замки итальянские,мех ен...</td>\n",
       "      <td>5bb2f0132aecd61bba7faf22</td>\n",
       "      <td>http://cache3.youla.io/files/images/360_360/5b...</td>\n",
       "      <td>NaN</td>\n",
       "      <td>NaN</td>\n",
       "      <td>NaN</td>\n",
       "    </tr>\n",
       "    <tr>\n",
       "      <th>262808</th>\n",
       "      <td>Крыло переднее правое для Audi A5/S5 Coupe/Spo...</td>\n",
       "      <td>NaN</td>\n",
       "      <td>NaN</td>\n",
       "      <td>NaN</td>\n",
       "      <td>Запчасти</td>\n",
       "      <td>Для автомобилей</td>\n",
       "      <td>Кузов</td>\n",
       "    </tr>\n",
       "    <tr>\n",
       "      <th>142860</th>\n",
       "      <td>Шкаф купе Шкафы и комоды</td>\n",
       "      <td>NaN</td>\n",
       "      <td>NaN</td>\n",
       "      <td>NaN</td>\n",
       "      <td>Шкафы и комоды</td>\n",
       "      <td>nan</td>\n",
       "      <td>nan</td>\n",
       "    </tr>\n",
       "    <tr>\n",
       "      <th>208828</th>\n",
       "      <td>Стиральная машина Siemens LAV3E7TYB4 Для дома ...</td>\n",
       "      <td>NaN</td>\n",
       "      <td>NaN</td>\n",
       "      <td>NaN</td>\n",
       "      <td>Для дома</td>\n",
       "      <td>Стиральные машины</td>\n",
       "      <td>nan</td>\n",
       "    </tr>\n",
       "  </tbody>\n",
       "</table>\n",
       "</div>"
      ],
      "text/plain": [
       "                                                    title  \\\n",
       "352788                   Продам Новый Sony Xperia SP Sony   \n",
       "207261  Сумки для дисков (портмоне), Кейк боксы, пакет...   \n",
       "397201       Шуба Женская одежда Верхняя одежда 46–48 (L)   \n",
       "48291           ВАЗ 2105, 2001 С пробегом ВАЗ (LADA) 2105   \n",
       "407934            Велотренажер SE-1310 Фитнес и тренажёры   \n",
       "137094     Игровой HP Четырех ядерный A6 turbo /500Gb/4Gb   \n",
       "32195                                              Платье   \n",
       "44581        Skoda Octavia, 2011 С пробегом Skoda Octavia   \n",
       "134928             Игровой на Core-i3 (8Gb памяти, 500Gb)   \n",
       "365692                          Ударная дрель Инструменты   \n",
       "64030          Электрический плазменный шар Тесла Игрушки   \n",
       "321519  Интернет магазины, визитки, сайты продукции IT...   \n",
       "375567  Продавец продуктов питания Продажи Сменный график   \n",
       "250775      Изготовление видеороликов Фото- и видеосъёмка   \n",
       "383966        Кеды adidas оригинал Для мальчиков Обувь 21   \n",
       "202512           Шотландские вислоухие котята Шотландская   \n",
       "121885      Детская обувь. Осенняя Для мальчиков Обувь 29   \n",
       "182634                Micromax Q380 Canvas Spark Micromax   \n",
       "27646                             Мужская коженная куртка   \n",
       "262808  Крыло переднее правое для Audi A5/S5 Coupe/Spo...   \n",
       "142860                           Шкаф купе Шкафы и комоды   \n",
       "208828  Стиральная машина Siemens LAV3E7TYB4 Для дома ...   \n",
       "\n",
       "                                             descrirption  \\\n",
       "352788                                                NaN   \n",
       "207261                                                NaN   \n",
       "397201                                                NaN   \n",
       "48291                                                 NaN   \n",
       "407934                                                NaN   \n",
       "137094                                                NaN   \n",
       "32195                                                 NaN   \n",
       "44581                                                 NaN   \n",
       "134928                                                NaN   \n",
       "365692                                                NaN   \n",
       "64030                                                 NaN   \n",
       "321519                                                NaN   \n",
       "375567                                                NaN   \n",
       "250775                                                NaN   \n",
       "383966                                                NaN   \n",
       "202512                                                NaN   \n",
       "121885                                                NaN   \n",
       "182634                                                NaN   \n",
       "27646   Новая турецкая куртка,замки итальянские,мех ен...   \n",
       "262808                                                NaN   \n",
       "142860                                                NaN   \n",
       "208828                                                NaN   \n",
       "\n",
       "                      product_id  \\\n",
       "352788                       NaN   \n",
       "207261                       NaN   \n",
       "397201                       NaN   \n",
       "48291                        NaN   \n",
       "407934                       NaN   \n",
       "137094                       NaN   \n",
       "32195   5b35e242eef14155ff215790   \n",
       "44581                        NaN   \n",
       "134928                       NaN   \n",
       "365692                       NaN   \n",
       "64030                        NaN   \n",
       "321519                       NaN   \n",
       "375567                       NaN   \n",
       "250775                       NaN   \n",
       "383966                       NaN   \n",
       "202512                       NaN   \n",
       "121885                       NaN   \n",
       "182634                       NaN   \n",
       "27646   5bb2f0132aecd61bba7faf22   \n",
       "262808                       NaN   \n",
       "142860                       NaN   \n",
       "208828                       NaN   \n",
       "\n",
       "                                              image_links  \\\n",
       "352788                                                NaN   \n",
       "207261                                                NaN   \n",
       "397201                                                NaN   \n",
       "48291                                                 NaN   \n",
       "407934                                                NaN   \n",
       "137094                                                NaN   \n",
       "32195   http://cache3.youla.io/files/images/360_360/5b...   \n",
       "44581                                                 NaN   \n",
       "134928                                                NaN   \n",
       "365692                                                NaN   \n",
       "64030                                                 NaN   \n",
       "321519                                                NaN   \n",
       "375567                                                NaN   \n",
       "250775                                                NaN   \n",
       "383966                                                NaN   \n",
       "202512                                                NaN   \n",
       "121885                                                NaN   \n",
       "182634                                                NaN   \n",
       "27646   http://cache3.youla.io/files/images/360_360/5b...   \n",
       "262808                                                NaN   \n",
       "142860                                                NaN   \n",
       "208828                                                NaN   \n",
       "\n",
       "                       param1                         param2     param3  \n",
       "352788                   Sony                            nan        nan  \n",
       "207261    Расходные материалы                       Болванки        nan  \n",
       "397201         Женская одежда                 Верхняя одежда  46–48 (L)  \n",
       "48291              С пробегом                     ВАЗ (LADA)       2105  \n",
       "407934     Фитнес и тренажёры                            nan        nan  \n",
       "137094                    nan                            nan        nan  \n",
       "32195                     NaN                            NaN        NaN  \n",
       "44581              С пробегом                          Skoda    Octavia  \n",
       "134928                    nan                            nan        nan  \n",
       "365692            Инструменты                            nan        nan  \n",
       "64030                 Игрушки                            nan        nan  \n",
       "321519  IT, интернет, телеком  Cоздание и продвижение сайтов        nan  \n",
       "375567                Продажи                 Сменный график        nan  \n",
       "250775    Фото- и видеосъёмка                            nan        nan  \n",
       "383966          Для мальчиков                          Обувь         21  \n",
       "202512            Шотландская                            nan        nan  \n",
       "121885          Для мальчиков                          Обувь         29  \n",
       "182634               Micromax                            nan        nan  \n",
       "27646                     NaN                            NaN        NaN  \n",
       "262808               Запчасти                Для автомобилей      Кузов  \n",
       "142860         Шкафы и комоды                            nan        nan  \n",
       "208828               Для дома              Стиральные машины        nan  "
      ]
     },
     "execution_count": 11,
     "metadata": {},
     "output_type": "execute_result"
    }
   ],
   "source": [
    "data.sample(22)"
   ]
  },
  {
   "cell_type": "markdown",
   "metadata": {},
   "source": [
    "---------"
   ]
  },
  {
   "cell_type": "code",
   "execution_count": 12,
   "metadata": {},
   "outputs": [
    {
     "name": "stdout",
     "output_type": "stream",
     "text": [
      "<class 'pandas.core.frame.DataFrame'>\n",
      "RangeIndex: 412235 entries, 0 to 412234\n",
      "Data columns (total 7 columns):\n",
      "title           412235 non-null object\n",
      "descrirption    412235 non-null object\n",
      "product_id      412235 non-null object\n",
      "image_links     412235 non-null object\n",
      "param1          412235 non-null object\n",
      "param2          412235 non-null object\n",
      "param3          412235 non-null object\n",
      "dtypes: object(7)\n",
      "memory usage: 22.0+ MB\n"
     ]
    },
    {
     "data": {
      "text/plain": [
       "(None, False)"
      ]
     },
     "execution_count": 12,
     "metadata": {},
     "output_type": "execute_result"
    }
   ],
   "source": [
    "data = data.fillna('nan')\n",
    "data.info(), np.any(data.isna())"
   ]
  },
  {
   "cell_type": "code",
   "execution_count": 13,
   "metadata": {},
   "outputs": [],
   "source": [
    "import re\n",
    "import pymorphy2\n",
    "from functools import lru_cache\n",
    "\n",
    "morph = pymorphy2.MorphAnalyzer()\n",
    "\n",
    "@lru_cache(maxsize=100000) # с кешом!\n",
    "def get_normal_form (i):\n",
    "    return morph.normal_forms(i)[0]\n",
    "\n",
    "def normalize_text(x):\n",
    "    return ' '.join([get_normal_form(i) for i in re.findall('\\w+', x)])"
   ]
  },
  {
   "cell_type": "code",
   "execution_count": 14,
   "metadata": {},
   "outputs": [
    {
     "name": "stdout",
     "output_type": "stream",
     "text": [
      "title - procesing...\n",
      "CPU times: user 8.8 s, sys: 44 ms, total: 8.85 s\n",
      "Wall time: 8.85 s\n"
     ]
    }
   ],
   "source": [
    "%%time\n",
    "\n",
    "COLS = ['title']\n",
    "\n",
    "for col in COLS:\n",
    "    print(col, '- procesing...')\n",
    "    get_normal_form.cache_clear()\n",
    "    data[col] = data[col].apply(lambda x: normalize_text(x))"
   ]
  },
  {
   "cell_type": "code",
   "execution_count": 15,
   "metadata": {},
   "outputs": [],
   "source": [
    "data['title'] = data['title'].apply(lambda x: x.split(' '))"
   ]
  },
  {
   "cell_type": "code",
   "execution_count": 19,
   "metadata": {},
   "outputs": [
    {
     "data": {
      "text/html": [
       "<div>\n",
       "<style scoped>\n",
       "    .dataframe tbody tr th:only-of-type {\n",
       "        vertical-align: middle;\n",
       "    }\n",
       "\n",
       "    .dataframe tbody tr th {\n",
       "        vertical-align: top;\n",
       "    }\n",
       "\n",
       "    .dataframe thead th {\n",
       "        text-align: right;\n",
       "    }\n",
       "</style>\n",
       "<table border=\"1\" class=\"dataframe\">\n",
       "  <thead>\n",
       "    <tr style=\"text-align: right;\">\n",
       "      <th></th>\n",
       "      <th>title</th>\n",
       "      <th>descrirption</th>\n",
       "      <th>product_id</th>\n",
       "      <th>image_links</th>\n",
       "      <th>param1</th>\n",
       "      <th>param2</th>\n",
       "      <th>param3</th>\n",
       "    </tr>\n",
       "  </thead>\n",
       "  <tbody>\n",
       "    <tr>\n",
       "      <th>15539</th>\n",
       "      <td>[платье, 42, размер]</td>\n",
       "      <td>nan</td>\n",
       "      <td>5b18c306a09cd5456901867e</td>\n",
       "      <td>http://cache3.youla.io/files/images/360_360/5b...</td>\n",
       "      <td>nan</td>\n",
       "      <td>nan</td>\n",
       "      <td>nan</td>\n",
       "    </tr>\n",
       "    <tr>\n",
       "      <th>124234</th>\n",
       "      <td>[угловой, диван, кровать, диван, и, кресло]</td>\n",
       "      <td>nan</td>\n",
       "      <td>nan</td>\n",
       "      <td>nan</td>\n",
       "      <td>Кровати, диваны и кресла</td>\n",
       "      <td>nan</td>\n",
       "      <td>nan</td>\n",
       "    </tr>\n",
       "    <tr>\n",
       "      <th>48840</th>\n",
       "      <td>[матричный, принтер, epson, lx, 350, 2шт, прин...</td>\n",
       "      <td>nan</td>\n",
       "      <td>nan</td>\n",
       "      <td>nan</td>\n",
       "      <td>Принтеры</td>\n",
       "      <td>nan</td>\n",
       "      <td>nan</td>\n",
       "    </tr>\n",
       "    <tr>\n",
       "      <th>221791</th>\n",
       "      <td>[порог, левый, nissan, almera, b10, запчасть, ...</td>\n",
       "      <td>nan</td>\n",
       "      <td>nan</td>\n",
       "      <td>nan</td>\n",
       "      <td>Запчасти</td>\n",
       "      <td>Для автомобилей</td>\n",
       "      <td>Кузов</td>\n",
       "    </tr>\n",
       "    <tr>\n",
       "      <th>122807</th>\n",
       "      <td>[продать, андроид, samsung, galaxy, s, 3, sams...</td>\n",
       "      <td>nan</td>\n",
       "      <td>nan</td>\n",
       "      <td>nan</td>\n",
       "      <td>Samsung</td>\n",
       "      <td>nan</td>\n",
       "      <td>nan</td>\n",
       "    </tr>\n",
       "    <tr>\n",
       "      <th>132871</th>\n",
       "      <td>[настольный, книга, практический, психолог, ро...</td>\n",
       "      <td>nan</td>\n",
       "      <td>nan</td>\n",
       "      <td>nan</td>\n",
       "      <td>Книги</td>\n",
       "      <td>nan</td>\n",
       "      <td>nan</td>\n",
       "    </tr>\n",
       "    <tr>\n",
       "      <th>306826</th>\n",
       "      <td>[крепление, для, сноуборд, termit, m3, black, ...</td>\n",
       "      <td>nan</td>\n",
       "      <td>nan</td>\n",
       "      <td>nan</td>\n",
       "      <td>Зимние виды спорта</td>\n",
       "      <td>nan</td>\n",
       "      <td>nan</td>\n",
       "    </tr>\n",
       "  </tbody>\n",
       "</table>\n",
       "</div>"
      ],
      "text/plain": [
       "                                                    title descrirption  \\\n",
       "15539                                [платье, 42, размер]          nan   \n",
       "124234        [угловой, диван, кровать, диван, и, кресло]          nan   \n",
       "48840   [матричный, принтер, epson, lx, 350, 2шт, прин...          nan   \n",
       "221791  [порог, левый, nissan, almera, b10, запчасть, ...          nan   \n",
       "122807  [продать, андроид, samsung, galaxy, s, 3, sams...          nan   \n",
       "132871  [настольный, книга, практический, психолог, ро...          nan   \n",
       "306826  [крепление, для, сноуборд, termit, m3, black, ...          nan   \n",
       "\n",
       "                      product_id  \\\n",
       "15539   5b18c306a09cd5456901867e   \n",
       "124234                       nan   \n",
       "48840                        nan   \n",
       "221791                       nan   \n",
       "122807                       nan   \n",
       "132871                       nan   \n",
       "306826                       nan   \n",
       "\n",
       "                                              image_links  \\\n",
       "15539   http://cache3.youla.io/files/images/360_360/5b...   \n",
       "124234                                                nan   \n",
       "48840                                                 nan   \n",
       "221791                                                nan   \n",
       "122807                                                nan   \n",
       "132871                                                nan   \n",
       "306826                                                nan   \n",
       "\n",
       "                          param1           param2 param3  \n",
       "15539                        nan              nan    nan  \n",
       "124234  Кровати, диваны и кресла              nan    nan  \n",
       "48840                   Принтеры              nan    nan  \n",
       "221791                  Запчасти  Для автомобилей  Кузов  \n",
       "122807                   Samsung              nan    nan  \n",
       "132871                     Книги              nan    nan  \n",
       "306826        Зимние виды спорта              nan    nan  "
      ]
     },
     "execution_count": 19,
     "metadata": {},
     "output_type": "execute_result"
    }
   ],
   "source": [
    "data.sample(7)"
   ]
  },
  {
   "cell_type": "markdown",
   "metadata": {},
   "source": [
    "---------------\n",
    "Обучение!"
   ]
  },
  {
   "cell_type": "code",
   "execution_count": 20,
   "metadata": {},
   "outputs": [],
   "source": [
    "import gensim\n",
    "from gensim.models import Word2Vec, FastText"
   ]
  },
  {
   "cell_type": "code",
   "execution_count": 21,
   "metadata": {},
   "outputs": [
    {
     "name": "stdout",
     "output_type": "stream",
     "text": [
      "CPU times: user 57.1 s, sys: 325 ms, total: 57.4 s\n",
      "Wall time: 14.6 s\n"
     ]
    }
   ],
   "source": [
    "%%time\n",
    "W2V_VECT_SIZE = 300\n",
    "W2V_WINDOW = 2\n",
    "model = Word2Vec(data['title'], size=W2V_VECT_SIZE, window=W2V_WINDOW,\n",
    "                 workers=10, min_count=2)"
   ]
  },
  {
   "cell_type": "code",
   "execution_count": 60,
   "metadata": {
    "scrolled": true
   },
   "outputs": [
    {
     "name": "stdout",
     "output_type": "stream",
     "text": [
      "#0 - loss: 0.0\n",
      "#1 - loss: 0.0\n",
      "#2 - loss: 0.0\n",
      "#3 - loss: 0.0\n",
      "#4 - loss: 0.0\n",
      "#5 - loss: 0.0\n",
      "#6 - loss: 0.0\n",
      "#7 - loss: 0.0\n",
      "#8 - loss: 0.0\n",
      "#9 - loss: 0.0\n"
     ]
    }
   ],
   "source": [
    "N_EPOCHS = model.epochs\n",
    "N_ITER = 10 #60\n",
    "\n",
    "\n",
    "for ep in range(N_ITER):\n",
    "    model.train(data['title'], total_examples=len(data['title']), epochs=N_EPOCHS)\n",
    "    print('#{} - loss: {}'.format(ep, model.get_latest_training_loss()))"
   ]
  },
  {
   "cell_type": "code",
   "execution_count": 61,
   "metadata": {},
   "outputs": [],
   "source": [
    "#создадим словарь со словами и соответсвующими им векторами\n",
    "# w2v = dict(zip(model.wv.index2word, model.wv.vectors))"
   ]
  },
  {
   "cell_type": "code",
   "execution_count": 62,
   "metadata": {
    "scrolled": true
   },
   "outputs": [
    {
     "name": "stdout",
     "output_type": "stream",
     "text": [
      "==============================\n",
      "['платье', 'лето']\n",
      "[('юбка', 0.5348175168037415), ('нарядный', 0.3859283924102783), ('блузка', 0.36271536350250244), ('трикотаж', 0.3551098108291626), ('рубашка', 0.3533165454864502), ('скал', 0.3524458110332489), ('верхний', 0.3497891128063202), ('осень', 0.33802181482315063), ('вечерний', 0.3301306962966919), ('сарафан', 0.32949501276016235)]\n",
      "==============================\n",
      "['шлепок']\n",
      "[('красовка', 0.4430735409259796), ('сабо', 0.44122016429901123), ('сланец', 0.4385462999343872), ('макасина', 0.42505988478660583), ('обувь', 0.423159658908844), ('шлёпанец', 0.3966951370239258), ('кросовка', 0.3899744749069214), ('балетки', 0.38112375140190125), ('самокаток', 0.3805985450744629), ('чуня', 0.37023091316223145)]\n",
      "==============================\n",
      "['ботинок', '36', 'размер']\n",
      "[('сапог', 0.4622458815574646), ('обувь', 0.4450370669364929), ('сапожок', 0.42577606439590454), ('ботиночек', 0.42267102003097534), ('р', 0.41751688718795776), ('кроссовок', 0.4079289138317108), ('туфля', 0.3968043625354767), ('брюки', 0.3905564546585083), ('босоножка', 0.3647274374961853), ('35', 0.3563297390937805)]\n",
      "==============================\n",
      "['кепка', 'ac/dc']\n"
     ]
    },
    {
     "ename": "KeyError",
     "evalue": "\"word 'ac/dc' not in vocabulary\"",
     "output_type": "error",
     "traceback": [
      "\u001b[0;31m---------------------------------------------------------------------------\u001b[0m",
      "\u001b[0;31mKeyError\u001b[0m                                  Traceback (most recent call last)",
      "\u001b[0;32m<ipython-input-62-a176b8884f02>\u001b[0m in \u001b[0;36m<module>\u001b[0;34m\u001b[0m\n\u001b[1;32m      5\u001b[0m     \u001b[0mprint\u001b[0m\u001b[0;34m(\u001b[0m\u001b[0;34m'='\u001b[0m\u001b[0;34m*\u001b[0m\u001b[0;36m30\u001b[0m\u001b[0;34m)\u001b[0m\u001b[0;34m\u001b[0m\u001b[0m\n\u001b[1;32m      6\u001b[0m     \u001b[0mprint\u001b[0m\u001b[0;34m(\u001b[0m\u001b[0mt\u001b[0m\u001b[0;34m)\u001b[0m\u001b[0;34m\u001b[0m\u001b[0m\n\u001b[0;32m----> 7\u001b[0;31m     \u001b[0mprint\u001b[0m\u001b[0;34m(\u001b[0m\u001b[0mmodel\u001b[0m\u001b[0;34m.\u001b[0m\u001b[0mwv\u001b[0m\u001b[0;34m.\u001b[0m\u001b[0mmost_similar\u001b[0m\u001b[0;34m(\u001b[0m\u001b[0mpositive\u001b[0m\u001b[0;34m=\u001b[0m\u001b[0mt\u001b[0m\u001b[0;34m)\u001b[0m\u001b[0;34m)\u001b[0m\u001b[0;34m\u001b[0m\u001b[0m\n\u001b[0m",
      "\u001b[0;32m~/anaconda3/lib/python3.6/site-packages/gensim/models/keyedvectors.py\u001b[0m in \u001b[0;36mmost_similar\u001b[0;34m(self, positive, negative, topn, restrict_vocab, indexer)\u001b[0m\n\u001b[1;32m    550\u001b[0m                 \u001b[0mmean\u001b[0m\u001b[0;34m.\u001b[0m\u001b[0mappend\u001b[0m\u001b[0;34m(\u001b[0m\u001b[0mweight\u001b[0m \u001b[0;34m*\u001b[0m \u001b[0mword\u001b[0m\u001b[0;34m)\u001b[0m\u001b[0;34m\u001b[0m\u001b[0m\n\u001b[1;32m    551\u001b[0m             \u001b[0;32melse\u001b[0m\u001b[0;34m:\u001b[0m\u001b[0;34m\u001b[0m\u001b[0m\n\u001b[0;32m--> 552\u001b[0;31m                 \u001b[0mmean\u001b[0m\u001b[0;34m.\u001b[0m\u001b[0mappend\u001b[0m\u001b[0;34m(\u001b[0m\u001b[0mweight\u001b[0m \u001b[0;34m*\u001b[0m \u001b[0mself\u001b[0m\u001b[0;34m.\u001b[0m\u001b[0mword_vec\u001b[0m\u001b[0;34m(\u001b[0m\u001b[0mword\u001b[0m\u001b[0;34m,\u001b[0m \u001b[0muse_norm\u001b[0m\u001b[0;34m=\u001b[0m\u001b[0;32mTrue\u001b[0m\u001b[0;34m)\u001b[0m\u001b[0;34m)\u001b[0m\u001b[0;34m\u001b[0m\u001b[0m\n\u001b[0m\u001b[1;32m    553\u001b[0m                 \u001b[0;32mif\u001b[0m \u001b[0mword\u001b[0m \u001b[0;32min\u001b[0m \u001b[0mself\u001b[0m\u001b[0;34m.\u001b[0m\u001b[0mvocab\u001b[0m\u001b[0;34m:\u001b[0m\u001b[0;34m\u001b[0m\u001b[0m\n\u001b[1;32m    554\u001b[0m                     \u001b[0mall_words\u001b[0m\u001b[0;34m.\u001b[0m\u001b[0madd\u001b[0m\u001b[0;34m(\u001b[0m\u001b[0mself\u001b[0m\u001b[0;34m.\u001b[0m\u001b[0mvocab\u001b[0m\u001b[0;34m[\u001b[0m\u001b[0mword\u001b[0m\u001b[0;34m]\u001b[0m\u001b[0;34m.\u001b[0m\u001b[0mindex\u001b[0m\u001b[0;34m)\u001b[0m\u001b[0;34m\u001b[0m\u001b[0m\n",
      "\u001b[0;32m~/anaconda3/lib/python3.6/site-packages/gensim/models/keyedvectors.py\u001b[0m in \u001b[0;36mword_vec\u001b[0;34m(self, word, use_norm)\u001b[0m\n\u001b[1;32m    465\u001b[0m             \u001b[0;32mreturn\u001b[0m \u001b[0mresult\u001b[0m\u001b[0;34m\u001b[0m\u001b[0m\n\u001b[1;32m    466\u001b[0m         \u001b[0;32melse\u001b[0m\u001b[0;34m:\u001b[0m\u001b[0;34m\u001b[0m\u001b[0m\n\u001b[0;32m--> 467\u001b[0;31m             \u001b[0;32mraise\u001b[0m \u001b[0mKeyError\u001b[0m\u001b[0;34m(\u001b[0m\u001b[0;34m\"word '%s' not in vocabulary\"\u001b[0m \u001b[0;34m%\u001b[0m \u001b[0mword\u001b[0m\u001b[0;34m)\u001b[0m\u001b[0;34m\u001b[0m\u001b[0m\n\u001b[0m\u001b[1;32m    468\u001b[0m \u001b[0;34m\u001b[0m\u001b[0m\n\u001b[1;32m    469\u001b[0m     \u001b[0;32mdef\u001b[0m \u001b[0mget_vector\u001b[0m\u001b[0;34m(\u001b[0m\u001b[0mself\u001b[0m\u001b[0;34m,\u001b[0m \u001b[0mword\u001b[0m\u001b[0;34m)\u001b[0m\u001b[0;34m:\u001b[0m\u001b[0;34m\u001b[0m\u001b[0m\n",
      "\u001b[0;31mKeyError\u001b[0m: \"word 'ac/dc' not in vocabulary\""
     ]
    }
   ],
   "source": [
    "# проверка, чему выучилась модель\n",
    "tests = [['платье', 'лето'], ['шлепок'], ['ботинок', '36', 'размер'], ['кепка', 'ac/dc']]\n",
    "\n",
    "for t in tests:\n",
    "    print('='*30)\n",
    "    print(t)\n",
    "    print(model.wv.most_similar(positive=t))"
   ]
  },
  {
   "cell_type": "code",
   "execution_count": 64,
   "metadata": {},
   "outputs": [],
   "source": [
    "FILENAME = 'w2v'+'size'+str(W2V_VECT_SIZE)+'window'+str(W2V_WINDOW)+'.model'\n",
    "model.save(FILENAME)"
   ]
  },
  {
   "cell_type": "markdown",
   "metadata": {},
   "source": [
    "----------"
   ]
  },
  {
   "cell_type": "code",
   "execution_count": null,
   "metadata": {},
   "outputs": [],
   "source": [
    "%%time\n",
    "W2V_VECT_SIZE = 1000\n",
    "W2V_WINDOW = 5\n",
    "model = Word2Vec(data['title'], size=W2V_VECT_SIZE, window=W2V_WINDOW, workers=4)"
   ]
  },
  {
   "cell_type": "code",
   "execution_count": null,
   "metadata": {},
   "outputs": [],
   "source": [
    "#создадим словарь со словами и соответсвующими им векторами\n",
    "#WORD_DICT = dict(zip(model.wv.index2word, model.wv.vectors))\n",
    "\n",
    "# проверка, чему выучилась модель\n",
    "model.wv.most_similar(positive=['платье', 'на', 'лето'])"
   ]
  },
  {
   "cell_type": "markdown",
   "metadata": {},
   "source": [
    "---------"
   ]
  },
  {
   "cell_type": "code",
   "execution_count": null,
   "metadata": {},
   "outputs": [],
   "source": [
    "FILENAME = 'w2v'+'size'+str(W2V_VECT_SIZE)+'window'+str(W2V_WINDOW)+'.model'\n",
    "model.save(FILENAME)"
   ]
  },
  {
   "cell_type": "markdown",
   "metadata": {},
   "source": [
    "----------------"
   ]
  },
  {
   "cell_type": "code",
   "execution_count": 10,
   "metadata": {
    "scrolled": true
   },
   "outputs": [
    {
     "name": "stdout",
     "output_type": "stream",
     "text": [
      "CPU times: user 8.11 s, sys: 1.93 s, total: 10 s\n",
      "Wall time: 8.84 s\n"
     ]
    }
   ],
   "source": [
    "%%time\n",
    "FT_VECT_SIZE = 100\n",
    "W2V_WINDOW = 2\n",
    "model_ft = FastText(data['title'], size=FT_VECT_SIZE, sg=1, window=W2V_WINDOW,\n",
    "                    min_count=2)"
   ]
  },
  {
   "cell_type": "code",
   "execution_count": 16,
   "metadata": {},
   "outputs": [
    {
     "data": {
      "text/plain": [
       "0.0"
      ]
     },
     "execution_count": 16,
     "metadata": {},
     "output_type": "execute_result"
    }
   ],
   "source": [
    "model_ft.running_training_loss"
   ]
  },
  {
   "cell_type": "code",
   "execution_count": 19,
   "metadata": {
    "scrolled": true
   },
   "outputs": [
    {
     "name": "stdout",
     "output_type": "stream",
     "text": [
      "#0 - loss: 0.0\n",
      "#1 - loss: 0.0\n",
      "#2 - loss: 0.0\n",
      "#3 - loss: 0.0\n",
      "#4 - loss: 0.0\n",
      "#5 - loss: 0.0\n",
      "#6 - loss: 0.0\n",
      "#7 - loss: 0.0\n",
      "#8 - loss: 0.0\n",
      "#9 - loss: 0.0\n",
      "#10 - loss: 0.0\n",
      "#11 - loss: 0.0\n",
      "#12 - loss: 0.0\n",
      "#13 - loss: 0.0\n",
      "#14 - loss: 0.0\n",
      "#15 - loss: 0.0\n",
      "#16 - loss: 0.0\n",
      "#17 - loss: 0.0\n",
      "#18 - loss: 0.0\n",
      "#19 - loss: 0.0\n",
      "#20 - loss: 0.0\n",
      "#21 - loss: 0.0\n",
      "#22 - loss: 0.0\n",
      "#23 - loss: 0.0\n",
      "#24 - loss: 0.0\n",
      "#25 - loss: 0.0\n",
      "#26 - loss: 0.0\n",
      "#27 - loss: 0.0\n",
      "#28 - loss: 0.0\n",
      "#29 - loss: 0.0\n",
      "#30 - loss: 0.0\n",
      "#31 - loss: 0.0\n",
      "#32 - loss: 0.0\n",
      "#33 - loss: 0.0\n",
      "#34 - loss: 0.0\n",
      "#35 - loss: 0.0\n",
      "#36 - loss: 0.0\n",
      "#37 - loss: 0.0\n",
      "#38 - loss: 0.0\n",
      "#39 - loss: 0.0\n",
      "#40 - loss: 0.0\n",
      "#41 - loss: 0.0\n",
      "#42 - loss: 0.0\n",
      "#43 - loss: 0.0\n",
      "#44 - loss: 0.0\n",
      "#45 - loss: 0.0\n",
      "#46 - loss: 0.0\n",
      "#47 - loss: 0.0\n",
      "#48 - loss: 0.0\n",
      "#49 - loss: 0.0\n",
      "CPU times: user 4min 34s, sys: 737 ms, total: 4min 35s\n",
      "Wall time: 1min 52s\n"
     ]
    }
   ],
   "source": [
    "%%time\n",
    "N_EPOCHS = model_ft.epochs\n",
    "N_ITER = 50\n",
    "\n",
    "\n",
    "for ep in range(N_ITER):\n",
    "    model_ft.train(data['title'], total_examples=len(data['title']), epochs=N_EPOCHS)\n",
    "    print('#{} - loss: {}'.format(ep, model_ft.running_training_loss))\n",
    "    model_ft.accuracy()\n",
    "# model_ft.train(data['title'], total_examples=len(data['title']), epochs=10)"
   ]
  },
  {
   "cell_type": "code",
   "execution_count": 20,
   "metadata": {},
   "outputs": [
    {
     "name": "stdout",
     "output_type": "stream",
     "text": [
      "==============================\n",
      "['платье', 'на', 'лето']\n",
      "[('отдельно', 0.5172362923622131), ('пальтишко', 0.5064972043037415), ('128рост', 0.5020479559898376), ('5г', 0.4977216124534607), ('отдельность', 0.49116095900535583), ('76', 0.4677026867866516), ('вечерня', 0.46703070402145386), ('комбензон', 0.4628647565841675), ('расцветка', 0.45954298973083496), ('155', 0.4570024609565735)]\n",
      "==============================\n",
      "['шлепок']\n",
      "[('шлёпанец', 0.520671546459198), ('с8', 0.507766604423523), ('запись', 0.47946596145629883), ('шлёпка', 0.47503623366355896), ('pollini', 0.47076958417892456), ('пупок', 0.45901674032211304), ('kari', 0.44957321882247925), ('крокс', 0.44842636585235596), ('фламинго', 0.4448487162590027), ('aragona', 0.4435162842273712)]\n",
      "==============================\n",
      "['ботинок', '36', 'размер']\n",
      "[('35размер', 0.5606111288070679), ('24см', 0.5605449676513672), ('5р', 0.5581309795379639), ('paolo', 0.5565675497055054), ('39размер', 0.5533890128135681), ('gabor', 0.5533478260040283), ('сапог', 0.5532618761062622), ('р36', 0.5518811941146851), ('kotofey', 0.5499472618103027), ('ботильен', 0.5489165782928467)]\n",
      "==============================\n",
      "['кепка', 'ac/dc']\n",
      "[('расцветка', 0.4966384768486023), ('кнопка', 0.4947966933250427), ('фуражка', 0.48039165139198303), ('кашне', 0.47512155771255493), ('ка', 0.466370165348053), ('шарф', 0.46598225831985474), ('косынка', 0.4617704451084137), ('крага', 0.4536498188972473), ('боксёр', 0.44924360513687134), ('помада', 0.44908738136291504)]\n"
     ]
    }
   ],
   "source": [
    "# проверка, чему выучилась модель\n",
    "tests = [['платье', 'на', 'лето'], ['шлепок'], ['ботинок', '36', 'размер'], ['кепка', 'ac/dc']]\n",
    "\n",
    "for t in tests:\n",
    "    print('='*30)\n",
    "    print(t)\n",
    "    print(model_ft.wv.most_similar(positive=t))\n",
    "\n",
    "# model_ft.wv.most_similar(\"платье\")"
   ]
  },
  {
   "cell_type": "code",
   "execution_count": null,
   "metadata": {},
   "outputs": [],
   "source": [
    "FILENAME = 'fasttext'+'size'+str(W2V_VECT_SIZE)+'window'+str(W2V_WINDOW)+'.model'\n",
    "model_ft.save(FILENAME)"
   ]
  },
  {
   "cell_type": "markdown",
   "metadata": {},
   "source": [
    "-----------"
   ]
  },
  {
   "cell_type": "code",
   "execution_count": 29,
   "metadata": {},
   "outputs": [
    {
     "name": "stdout",
     "output_type": "stream",
     "text": [
      "CPU times: user 8 s, sys: 1.78 s, total: 9.78 s\n",
      "Wall time: 8.62 s\n"
     ]
    }
   ],
   "source": [
    "%%time\n",
    "FT_VECT_SIZE = 100\n",
    "W2V_WINDOW = 3\n",
    "model_ft = FastText(data['title'], size=FT_VECT_SIZE, sg=1, window=W2V_WINDOW, workers=4)"
   ]
  },
  {
   "cell_type": "code",
   "execution_count": 30,
   "metadata": {},
   "outputs": [
    {
     "name": "stdout",
     "output_type": "stream",
     "text": [
      "==============================\n",
      "['платье', 'на', 'лето']\n",
      "[('верхний', 0.9771360158920288), ('вельвет', 0.9755762815475464), ('будущий', 0.9732323288917542), ('велюр', 0.9727160334587097), ('лена', 0.9712480306625366), ('леля', 0.9711662530899048), ('длина', 0.9710812568664551), ('облегчить', 0.9710208773612976), ('домашний', 0.969329297542572), ('плащить', 0.9689939618110657)]\n",
      "==============================\n",
      "['шлепок']\n",
      "[('чулок', 0.9981220960617065), ('значок', 0.9972543120384216), ('блок', 0.9970724582672119), ('muzi', 0.9969342947006226), ('19р', 0.9965054392814636), ('21р', 0.9962620735168457), ('самокат', 0.9959256649017334), ('полувера', 0.9957475662231445), ('экко', 0.9957009553909302), ('унисекс', 0.9953346252441406)]\n",
      "==============================\n",
      "['ботинок', '36', 'размер']\n",
      "[('35', 0.9792914390563965), ('сандалия', 0.9672341346740723), ('38', 0.9644096493721008), ('21', 0.9639444947242737), ('37', 0.9614337682723999), ('кроссовок', 0.9605990052223206), ('полусапожки', 0.9579499959945679), ('41', 0.9573128819465637), ('23', 0.9569252729415894), ('полуботинок', 0.9561794996261597)]\n",
      "==============================\n",
      "['кепка', 'ac/dc']\n",
      "[('косынка', 0.9706368446350098), ('шлёпка', 0.9702087640762329), ('шляпка', 0.9699627161026001), ('палатка', 0.9696373343467712), ('сказка', 0.9691665768623352), ('коробка', 0.9687286019325256), ('собака', 0.9681452512741089), ('косметичка', 0.9679500460624695), ('обезьянка', 0.9679004549980164), ('лошадка', 0.9678471088409424)]\n"
     ]
    }
   ],
   "source": [
    "# проверка, чему выучилась модель\n",
    "tests = [['платье', 'на', 'лето'], ['шлепок'], ['ботинок', '36', 'размер'], ['кепка', 'ac/dc']]\n",
    "\n",
    "for t in tests:\n",
    "    print('='*30)\n",
    "    print(t)\n",
    "    print(model_ft.wv.most_similar(positive=t))\n",
    "\n",
    "# model_ft.wv.most_similar(\"платье\")"
   ]
  },
  {
   "cell_type": "markdown",
   "metadata": {},
   "source": [
    "--------"
   ]
  },
  {
   "cell_type": "code",
   "execution_count": null,
   "metadata": {},
   "outputs": [],
   "source": [
    "%%time\n",
    "FT_VECT_SIZE = 100\n",
    "W2V_WINDOW = 5\n",
    "model_ft = FastText(data['title'], size=FT_VECT_SIZE, sg=1, window=W2V_WINDOW, workers=4)"
   ]
  },
  {
   "cell_type": "code",
   "execution_count": 32,
   "metadata": {},
   "outputs": [
    {
     "name": "stdout",
     "output_type": "stream",
     "text": [
      "==============================\n",
      "['платье', 'на', 'лето']\n",
      "[('верхний', 0.9771360158920288), ('вельвет', 0.9755762815475464), ('будущий', 0.9732323288917542), ('велюр', 0.9727160334587097), ('лена', 0.9712480306625366), ('леля', 0.9711662530899048), ('длина', 0.9710812568664551), ('облегчить', 0.9710208773612976), ('домашний', 0.969329297542572), ('плащить', 0.9689939618110657)]\n",
      "==============================\n",
      "['шлепок']\n",
      "[('чулок', 0.9981220960617065), ('значок', 0.9972543120384216), ('блок', 0.9970724582672119), ('muzi', 0.9969342947006226), ('19р', 0.9965054392814636), ('21р', 0.9962620735168457), ('самокат', 0.9959256649017334), ('полувера', 0.9957475662231445), ('экко', 0.9957009553909302), ('унисекс', 0.9953346252441406)]\n",
      "==============================\n",
      "['ботинок', '36', 'размер']\n",
      "[('35', 0.9792914390563965), ('сандалия', 0.9672341346740723), ('38', 0.9644096493721008), ('21', 0.9639444947242737), ('37', 0.9614337682723999), ('кроссовок', 0.9605990052223206), ('полусапожки', 0.9579499959945679), ('41', 0.9573128819465637), ('23', 0.9569252729415894), ('полуботинок', 0.9561794996261597)]\n",
      "==============================\n",
      "['кепка', 'ac/dc']\n",
      "[('косынка', 0.9706368446350098), ('шлёпка', 0.9702087640762329), ('шляпка', 0.9699627161026001), ('палатка', 0.9696373343467712), ('сказка', 0.9691665768623352), ('коробка', 0.9687286019325256), ('собака', 0.9681452512741089), ('косметичка', 0.9679500460624695), ('обезьянка', 0.9679004549980164), ('лошадка', 0.9678471088409424)]\n"
     ]
    }
   ],
   "source": [
    "# проверка, чему выучилась модель\n",
    "tests = [['платье', 'на', 'лето'], ['шлепок'], ['ботинок', '36', 'размер'], ['кепка', 'ac/dc']]\n",
    "\n",
    "for t in tests:\n",
    "    print('='*30)\n",
    "    print(t)\n",
    "    print(model_ft.wv.most_similar(positive=t))\n",
    "\n",
    "# model_ft.wv.most_similar(\"платье\")"
   ]
  },
  {
   "cell_type": "markdown",
   "metadata": {},
   "source": [
    "-----------"
   ]
  },
  {
   "cell_type": "code",
   "execution_count": 23,
   "metadata": {},
   "outputs": [],
   "source": [
    "from gensim.models import KeyedVectors\n",
    "\n",
    "# model = KeyedVectors.load_word2vec_format('./w2v.model')\n",
    "#model = KeyedVectors.load_word2vec_format('./fasttext.model')\n",
    "model = model_ft"
   ]
  },
  {
   "cell_type": "markdown",
   "metadata": {},
   "source": [
    "Индексация HNSW"
   ]
  },
  {
   "cell_type": "code",
   "execution_count": 13,
   "metadata": {},
   "outputs": [],
   "source": [
    "import nmslib"
   ]
  },
  {
   "cell_type": "code",
   "execution_count": 25,
   "metadata": {},
   "outputs": [],
   "source": [
    "index = nmslib.init(space='cosinesimil', method='sw-graph')\n",
    "nmslib.addDataPointBatch(index, np.arange(model.wv.vectors.shape[0], dtype=np.int32), model.wv.vectors)\n",
    "index.createIndex({}, print_progress=True)"
   ]
  },
  {
   "cell_type": "code",
   "execution_count": 26,
   "metadata": {},
   "outputs": [
    {
     "name": "stdout",
     "output_type": "stream",
     "text": [
      "CPU times: user 3.65 ms, sys: 833 µs, total: 4.49 ms\n",
      "Wall time: 3.68 ms\n"
     ]
    }
   ],
   "source": [
    "%%time\n",
    "WORD_VECT = model.wv['платье'][np.newaxis, :]\n",
    "items = nmslib.knnQuery(index, 10, WORD_VECT)"
   ]
  },
  {
   "cell_type": "code",
   "execution_count": 27,
   "metadata": {},
   "outputs": [
    {
     "data": {
      "text/plain": [
       "['платье',\n",
       " 'блузка',\n",
       " 'туника',\n",
       " 'топ',\n",
       " 'блуза',\n",
       " 'юбка',\n",
       " 'пиджак',\n",
       " '46р',\n",
       " 'брюки',\n",
       " 'р44']"
      ]
     },
     "execution_count": 27,
     "metadata": {},
     "output_type": "execute_result"
    }
   ],
   "source": [
    "[model.wv.index2word[idx] for idx in items]"
   ]
  },
  {
   "cell_type": "markdown",
   "metadata": {},
   "source": [
    "Индексация. FAISS"
   ]
  },
  {
   "cell_type": "code",
   "execution_count": null,
   "metadata": {},
   "outputs": [],
   "source": [
    "import faiss"
   ]
  },
  {
   "cell_type": "code",
   "execution_count": null,
   "metadata": {},
   "outputs": [],
   "source": [
    "index = faiss.index_factory(model.wv.syn0norm.shape[1], 'IVF16384,Flat')\n",
    "index.verbose = True\n",
    "train = model.wv.syn0norm[np/random.binomial(1,1./3, size=model.wv.syn0norm.shape[0]).astype(bool)]\n",
    "index.train(train)\n",
    "index.add(model.wv.syn0norm)\n",
    "index.nprobe=100"
   ]
  },
  {
   "cell_type": "code",
   "execution_count": null,
   "metadata": {},
   "outputs": [],
   "source": [
    "%%time\n",
    "WORD_VECT = model.wv['word'][np.newaxis, :]\n",
    "distances, items = index.search(WORD_VECT, 10)"
   ]
  },
  {
   "cell_type": "code",
   "execution_count": null,
   "metadata": {},
   "outputs": [],
   "source": [
    "[model.wv.index2word[idx] for idx in items[0]]"
   ]
  },
  {
   "cell_type": "markdown",
   "metadata": {},
   "source": [
    "----------"
   ]
  },
  {
   "cell_type": "code",
   "execution_count": 25,
   "metadata": {},
   "outputs": [],
   "source": [
    "from annoy import AnnoyIndex\n",
    "from gensim.models import KeyedVectors"
   ]
  },
  {
   "cell_type": "code",
   "execution_count": 78,
   "metadata": {},
   "outputs": [
    {
     "data": {
      "text/plain": [
       "300"
      ]
     },
     "execution_count": 78,
     "metadata": {},
     "output_type": "execute_result"
    }
   ],
   "source": [
    "FILENAME = \"w2vsize300window2.model\"\n",
    "model = KeyedVectors.load(\"ModelsOnBigBase/3/\"+FILENAME)\n",
    "model.wv.vector_size"
   ]
  },
  {
   "cell_type": "code",
   "execution_count": 65,
   "metadata": {},
   "outputs": [],
   "source": [
    "matrix = []\n",
    "for tit in data['title']:\n",
    "    #print(tit, prod_id, img_link)\n",
    "    \n",
    "    list_v = []\n",
    "    for word in tit:\n",
    "        try:\n",
    "            list_v.append(model.wv[word])\n",
    "        except KeyError:\n",
    "            list_v.append([0]*300)\n",
    "    \n",
    "    wrap_list = []\n",
    "    if list_v:\n",
    "        wrap_list.append(np.mean(np.array(list_v), axis=0))\n",
    "    else:\n",
    "        wrap_list.append(np.array([0]*300))\n",
    "\n",
    "    matrix.append(np.mean(wrap_list,axis=0))"
   ]
  },
  {
   "cell_type": "code",
   "execution_count": 66,
   "metadata": {},
   "outputs": [
    {
     "data": {
      "text/plain": [
       "(300,)"
      ]
     },
     "execution_count": 66,
     "metadata": {},
     "output_type": "execute_result"
    }
   ],
   "source": [
    "\n",
    "matrix[0].shape"
   ]
  },
  {
   "cell_type": "code",
   "execution_count": 67,
   "metadata": {},
   "outputs": [
    {
     "name": "stdout",
     "output_type": "stream",
     "text": [
      "Build annoy base...\n",
      "Built\n"
     ]
    }
   ],
   "source": [
    "NUM_TREES = 15\n",
    "VEC_SIZE_EMB = model.wv.vector_size\n",
    "\n",
    "mapId2wordHash = {}\n",
    "index_title_emb = AnnoyIndex(VEC_SIZE_EMB)\n",
    "\n",
    "print('Build annoy base...')\n",
    "for word_hash, counter in zip(matrix, range(len(matrix))):\n",
    "    index_title_emb.add_item(counter, word_hash)\n",
    "    mapId2wordHash[counter] = word_hash\n",
    "    \n",
    "index_title_emb.build(NUM_TREES)\n",
    "print('Built')\n"
   ]
  },
  {
   "cell_type": "code",
   "execution_count": 68,
   "metadata": {},
   "outputs": [
    {
     "data": {
      "text/plain": [
       "True"
      ]
     },
     "execution_count": 68,
     "metadata": {},
     "output_type": "execute_result"
    }
   ],
   "source": [
    "FILENAME = FILENAME+'_'+'annoy_'+str(NUM_TREES)\n",
    "index_title_emb.save(FILENAME)"
   ]
  },
  {
   "cell_type": "code",
   "execution_count": 80,
   "metadata": {},
   "outputs": [
    {
     "data": {
      "text/plain": [
       "True"
      ]
     },
     "execution_count": 80,
     "metadata": {},
     "output_type": "execute_result"
    }
   ],
   "source": [
    "FILENAME = \"ModelsOnBigBase/3/w2vsize300window2.model_annoy_15\"\n",
    "\n",
    "index_title_emb = AnnoyIndex(model.wv.vector_size)\n",
    "index_title_emb.load(FILENAME)"
   ]
  },
  {
   "cell_type": "markdown",
   "metadata": {},
   "source": [
    "Тест на реальном запросе"
   ]
  },
  {
   "cell_type": "code",
   "execution_count": 81,
   "metadata": {},
   "outputs": [],
   "source": [
    "request = \"штаны школьные для мальчика\""
   ]
  },
  {
   "cell_type": "code",
   "execution_count": 82,
   "metadata": {},
   "outputs": [],
   "source": [
    "request_list = normalize_text(request).split(' ')\n",
    "\n",
    "vect_list = []\n",
    "for word in request_list:\n",
    "    try:\n",
    "        vect_list.append(model.wv[word])\n",
    "    except KeyError:\n",
    "        vect_list.append([0]*300)\n",
    "        \n",
    "if vect_list:\n",
    "    vect_list = np.mean(np.array(vect_list), axis=0)\n",
    "else:\n",
    "    vect_list = np.array([0]*300)"
   ]
  },
  {
   "cell_type": "code",
   "execution_count": 83,
   "metadata": {},
   "outputs": [
    {
     "data": {
      "text/plain": [
       "[2332, 19042, 23456, 153, 16555, 13905, 14753, 29413, 16435, 23350]"
      ]
     },
     "execution_count": 83,
     "metadata": {},
     "output_type": "execute_result"
    }
   ],
   "source": [
    "index_title_emb.get_nns_by_vector(vect_list, n=10)"
   ]
  },
  {
   "cell_type": "code",
   "execution_count": 84,
   "metadata": {},
   "outputs": [
    {
     "data": {
      "text/html": [
       "<div>\n",
       "<style scoped>\n",
       "    .dataframe tbody tr th:only-of-type {\n",
       "        vertical-align: middle;\n",
       "    }\n",
       "\n",
       "    .dataframe tbody tr th {\n",
       "        vertical-align: top;\n",
       "    }\n",
       "\n",
       "    .dataframe thead th {\n",
       "        text-align: right;\n",
       "    }\n",
       "</style>\n",
       "<table border=\"1\" class=\"dataframe\">\n",
       "  <thead>\n",
       "    <tr style=\"text-align: right;\">\n",
       "      <th></th>\n",
       "      <th>title</th>\n",
       "      <th>descrirption</th>\n",
       "      <th>product_id</th>\n",
       "      <th>category_id</th>\n",
       "      <th>subcategory_id</th>\n",
       "      <th>properties</th>\n",
       "      <th>image_links</th>\n",
       "    </tr>\n",
       "  </thead>\n",
       "  <tbody>\n",
       "    <tr>\n",
       "      <th>2332</th>\n",
       "      <td>Брюки школьные для мальчика (2пары)</td>\n",
       "      <td>Брюки школьные классические - б/у в очень - оч...</td>\n",
       "      <td>59a6bb5a27a9ab175672b639</td>\n",
       "      <td>22.0</td>\n",
       "      <td>2210</td>\n",
       "      <td>{}</td>\n",
       "      <td>http://cache3.youla.io/files/images/360_360/59...</td>\n",
       "    </tr>\n",
       "    <tr>\n",
       "      <th>19042</th>\n",
       "      <td>Штаны для мальчика</td>\n",
       "      <td>В хорошем состоянии покупала в H&amp;M 3-4 года 10...</td>\n",
       "      <td>59df608d9e94ba4c475dd242</td>\n",
       "      <td>22.0</td>\n",
       "      <td>2216</td>\n",
       "      <td>{'detskie_pol': 'Мальчикам', 'detskaya_odezhda...</td>\n",
       "      <td>http://cache3.youla.io/files/images/360_360/59...</td>\n",
       "    </tr>\n",
       "    <tr>\n",
       "      <th>23456</th>\n",
       "      <td>туфли школьные для мальчика</td>\n",
       "      <td>Туфли школьные для мальчика в отличном состоян...</td>\n",
       "      <td>59ff327a821a990a01202e62</td>\n",
       "      <td>22.0</td>\n",
       "      <td>2209</td>\n",
       "      <td>{'detskaya_odezhda_obuv_tip': 'Туфли', 'detski...</td>\n",
       "      <td>http://cache3.youla.io/files/images/360_360/59...</td>\n",
       "    </tr>\n",
       "    <tr>\n",
       "      <th>153</th>\n",
       "      <td>Штаны для девочки</td>\n",
       "      <td>Длина по шаговому шву 37 см, размер 94 см. \\nП...</td>\n",
       "      <td>58e8d44e65bcf177164c6773</td>\n",
       "      <td>22.0</td>\n",
       "      <td>2216</td>\n",
       "      <td>{'detskie_razmer_rost': '93-98 (3 года)', 'det...</td>\n",
       "      <td>http://cache3.youla.io/files/images/360_360/58...</td>\n",
       "    </tr>\n",
       "    <tr>\n",
       "      <th>16555</th>\n",
       "      <td>Обувь школьная для мальчика 31размер</td>\n",
       "      <td>Кожа, стелька тоже кожа. покупали в магазине б...</td>\n",
       "      <td>5b522c82132ca554650f722c</td>\n",
       "      <td>22.0</td>\n",
       "      <td>2209</td>\n",
       "      <td>{'detskie_pol': 'Мальчикам'}</td>\n",
       "      <td>http://cache3.youla.io/files/images/360_360/5b...</td>\n",
       "    </tr>\n",
       "    <tr>\n",
       "      <th>13905</th>\n",
       "      <td>Летние штаны для мальчика</td>\n",
       "      <td>Легкие брюки для мальчика в отличном состоянии...</td>\n",
       "      <td>58e0c1506c86cb87b77df932</td>\n",
       "      <td>22.0</td>\n",
       "      <td>2216</td>\n",
       "      <td>{'detskie_tzvet': 'Бежевый', 'detskie_pol': 'М...</td>\n",
       "      <td>http://cache3.youla.io/files/images/360_360/58...</td>\n",
       "    </tr>\n",
       "    <tr>\n",
       "      <th>14753</th>\n",
       "      <td>Брючные штаны для мальчика</td>\n",
       "      <td>Состояние отличное, размер 110. Самовывоз из С...</td>\n",
       "      <td>5ad707c6132ca5558853ce82</td>\n",
       "      <td>22.0</td>\n",
       "      <td>2216</td>\n",
       "      <td>{'detskie_tzvet': 'Синий', 'detskie_razmer_ros...</td>\n",
       "      <td>http://cache3.youla.io/files/images/360_360/5a...</td>\n",
       "    </tr>\n",
       "    <tr>\n",
       "      <th>29413</th>\n",
       "      <td>Спортивные штаны на мальчика</td>\n",
       "      <td>NaN</td>\n",
       "      <td>5b798ecdf56795726143c2e2</td>\n",
       "      <td>22.0</td>\n",
       "      <td>2214</td>\n",
       "      <td>{'detskaya_odezhda_sportivnaya_odezhda_tip': '...</td>\n",
       "      <td>http://cache3.youla.io/files/images/360_360/5b...</td>\n",
       "    </tr>\n",
       "    <tr>\n",
       "      <th>16435</th>\n",
       "      <td>Спортивные штаны для девочки новые</td>\n",
       "      <td>Новые спортивные штаны на рост 122см. Заходите...</td>\n",
       "      <td>57a7531696ad84a059df74f9</td>\n",
       "      <td>22.0</td>\n",
       "      <td>2216</td>\n",
       "      <td>{'detskie_pol': 'Девочкам', 'detskie_razmer_ro...</td>\n",
       "      <td>http://cache3.youla.io/files/images/360_360/57...</td>\n",
       "    </tr>\n",
       "    <tr>\n",
       "      <th>23350</th>\n",
       "      <td>Штаны спортивные на мальчика (новые)</td>\n",
       "      <td>Штаны спортивные (тонкие). Длина от пояса 66 с...</td>\n",
       "      <td>57ce9a82d53f3d802f856060</td>\n",
       "      <td>22.0</td>\n",
       "      <td>2216</td>\n",
       "      <td>{}</td>\n",
       "      <td>http://cache3.youla.io/files/images/360_360/57...</td>\n",
       "    </tr>\n",
       "  </tbody>\n",
       "</table>\n",
       "</div>"
      ],
      "text/plain": [
       "                                      title  \\\n",
       "2332    Брюки школьные для мальчика (2пары)   \n",
       "19042                    Штаны для мальчика   \n",
       "23456           туфли школьные для мальчика   \n",
       "153                       Штаны для девочки   \n",
       "16555  Обувь школьная для мальчика 31размер   \n",
       "13905             Летние штаны для мальчика   \n",
       "14753            Брючные штаны для мальчика   \n",
       "29413          Спортивные штаны на мальчика   \n",
       "16435    Спортивные штаны для девочки новые   \n",
       "23350  Штаны спортивные на мальчика (новые)   \n",
       "\n",
       "                                            descrirption  \\\n",
       "2332   Брюки школьные классические - б/у в очень - оч...   \n",
       "19042  В хорошем состоянии покупала в H&M 3-4 года 10...   \n",
       "23456  Туфли школьные для мальчика в отличном состоян...   \n",
       "153    Длина по шаговому шву 37 см, размер 94 см. \\nП...   \n",
       "16555  Кожа, стелька тоже кожа. покупали в магазине б...   \n",
       "13905  Легкие брюки для мальчика в отличном состоянии...   \n",
       "14753  Состояние отличное, размер 110. Самовывоз из С...   \n",
       "29413                                                NaN   \n",
       "16435  Новые спортивные штаны на рост 122см. Заходите...   \n",
       "23350  Штаны спортивные (тонкие). Длина от пояса 66 с...   \n",
       "\n",
       "                     product_id  category_id subcategory_id  \\\n",
       "2332   59a6bb5a27a9ab175672b639         22.0           2210   \n",
       "19042  59df608d9e94ba4c475dd242         22.0           2216   \n",
       "23456  59ff327a821a990a01202e62         22.0           2209   \n",
       "153    58e8d44e65bcf177164c6773         22.0           2216   \n",
       "16555  5b522c82132ca554650f722c         22.0           2209   \n",
       "13905  58e0c1506c86cb87b77df932         22.0           2216   \n",
       "14753  5ad707c6132ca5558853ce82         22.0           2216   \n",
       "29413  5b798ecdf56795726143c2e2         22.0           2214   \n",
       "16435  57a7531696ad84a059df74f9         22.0           2216   \n",
       "23350  57ce9a82d53f3d802f856060         22.0           2216   \n",
       "\n",
       "                                              properties  \\\n",
       "2332                                                  {}   \n",
       "19042  {'detskie_pol': 'Мальчикам', 'detskaya_odezhda...   \n",
       "23456  {'detskaya_odezhda_obuv_tip': 'Туфли', 'detski...   \n",
       "153    {'detskie_razmer_rost': '93-98 (3 года)', 'det...   \n",
       "16555                       {'detskie_pol': 'Мальчикам'}   \n",
       "13905  {'detskie_tzvet': 'Бежевый', 'detskie_pol': 'М...   \n",
       "14753  {'detskie_tzvet': 'Синий', 'detskie_razmer_ros...   \n",
       "29413  {'detskaya_odezhda_sportivnaya_odezhda_tip': '...   \n",
       "16435  {'detskie_pol': 'Девочкам', 'detskie_razmer_ro...   \n",
       "23350                                                 {}   \n",
       "\n",
       "                                             image_links  \n",
       "2332   http://cache3.youla.io/files/images/360_360/59...  \n",
       "19042  http://cache3.youla.io/files/images/360_360/59...  \n",
       "23456  http://cache3.youla.io/files/images/360_360/59...  \n",
       "153    http://cache3.youla.io/files/images/360_360/58...  \n",
       "16555  http://cache3.youla.io/files/images/360_360/5b...  \n",
       "13905  http://cache3.youla.io/files/images/360_360/58...  \n",
       "14753  http://cache3.youla.io/files/images/360_360/5a...  \n",
       "29413  http://cache3.youla.io/files/images/360_360/5b...  \n",
       "16435  http://cache3.youla.io/files/images/360_360/57...  \n",
       "23350  http://cache3.youla.io/files/images/360_360/57...  "
      ]
     },
     "execution_count": 84,
     "metadata": {},
     "output_type": "execute_result"
    }
   ],
   "source": [
    "data2 = pd.read_csv('data/dataset_sample.csv')\n",
    "data2.iloc[index_title_emb.get_nns_by_vector(vect_list, n=10)]"
   ]
  },
  {
   "cell_type": "code",
   "execution_count": 33,
   "metadata": {},
   "outputs": [
    {
     "ename": "SyntaxError",
     "evalue": "positional argument follows keyword argument (<ipython-input-33-7890dafac0a2>, line 1)",
     "output_type": "error",
     "traceback": [
      "\u001b[0;36m  File \u001b[0;32m\"<ipython-input-33-7890dafac0a2>\"\u001b[0;36m, line \u001b[0;32m1\u001b[0m\n\u001b[0;31m    annoy_res = list(index_img_emb1.get_nns_by_vector(vector=matrix[0], 13, include_distances=True))\u001b[0m\n\u001b[0m                                                                       ^\u001b[0m\n\u001b[0;31mSyntaxError\u001b[0m\u001b[0;31m:\u001b[0m positional argument follows keyword argument\n"
     ]
    }
   ],
   "source": [
    "title_id = list(data['title'][np.random.randint(1000)]\n",
    "\n",
    "print('Запрос', data_storage[title_id])\n",
    "print('векторок', data_storage_norm[title_id][:])\n",
    "\n",
    "annoy_res = list(index_img_emb1.get_nns_by_vector(data_storage_norm[title_id], 13, include_distances=True))\n",
    "\n",
    "print('\\n\\nСоседи:')\n",
    "\n",
    "for annoy_id, annoy_sim in itertools.islice(zip(*annoy_res), 13):\n",
    "    image_id = map_id_hashimg1[annoy_id]\n",
    "    print(data_storage[image_id], 1 - annoy_sim ** 2 / 2)\n",
    "    print('___' * 13)"
   ]
  },
  {
   "cell_type": "code",
   "execution_count": null,
   "metadata": {},
   "outputs": [],
   "source": []
  },
  {
   "cell_type": "markdown",
   "metadata": {},
   "source": [
    "# DRAFT"
   ]
  },
  {
   "cell_type": "code",
   "execution_count": 22,
   "metadata": {},
   "outputs": [
    {
     "name": "stdout",
     "output_type": "stream",
     "text": [
      "['юбка', 'детский', 'orby']\n",
      "['ботильон']\n",
      "['брюки']\n",
      "['продать', 'детский', 'шапка']\n",
      "['блузка']\n",
      "['штаны', 'женский']\n",
      "['ботинок', 'topshop']\n",
      "['туфля']\n",
      "['платье']\n",
      "['джинса', 'esprit']\n"
     ]
    }
   ],
   "source": [
    "cow=0\n",
    "for row in data['title']:\n",
    "    if cow < 10:\n",
    "        print(row)\n",
    "        cow += 1\n",
    "    else:\n",
    "        break"
   ]
  },
  {
   "cell_type": "code",
   "execution_count": 30,
   "metadata": {},
   "outputs": [
    {
     "name": "stdout",
     "output_type": "stream",
     "text": [
      "0\n",
      "1\n",
      "2\n",
      "3\n",
      "4\n",
      "5\n",
      "6\n",
      "7\n",
      "8\n",
      "9\n"
     ]
    }
   ],
   "source": [
    "cow=0\n",
    "for row, bow in zip(matrix, range(len(matrix))):\n",
    "    if cow < 10:\n",
    "        print( bow)\n",
    "        cow += 1\n",
    "    else:\n",
    "        break\n",
    "\n"
   ]
  },
  {
   "cell_type": "code",
   "execution_count": 25,
   "metadata": {},
   "outputs": [],
   "source": [
    "matrix = {}\n",
    "for tit, prod_id, img_link in zip(data['title'], data['product_id'], data['image_links']):\n",
    "    #print(tit, prod_id, img_link)\n",
    "    \n",
    "    list_v = []\n",
    "    for word in tit:\n",
    "        try:\n",
    "            list_v.append(model.wv[word])\n",
    "        except KeyError:\n",
    "            list_v.append([0]*300)\n",
    "    \n",
    "    wrap_list = []\n",
    "    if list_v:\n",
    "        wrap_list.append(np.mean(np.array(list_v), axis=0))\n",
    "    else:\n",
    "        wrap_list.append(np.array([0]*300))\n",
    "\n",
    "    matrix[(prod_id, img_link)] = np.mean(wrap_list,axis=0)"
   ]
  },
  {
   "cell_type": "markdown",
   "metadata": {},
   "source": [
    "---------------\n",
    "Cопоставим предложению среднее всех слова в нем; это некоторый смысл всего предложения"
   ]
  },
  {
   "cell_type": "code",
   "execution_count": null,
   "metadata": {},
   "outputs": [],
   "source": [
    "class mean_vectorizer(object):\n",
    "    def __init__(self, word2vec):\n",
    "        self.word2vec = word2vec\n",
    "        self.dim = len(next(iter(w2v.values())))\n",
    "    \n",
    "    def fit(self, X):\n",
    "        return self \n",
    "\n",
    "    def transform(self, X):\n",
    "        return np.array([\n",
    "            np.mean([self.word2vec[w] for w in words if w in self.word2vec] \n",
    "                    or [np.zeros(self.dim)], axis=0)\n",
    "            for words in X\n",
    "        ])\n",
    "\n",
    "\n",
    "data_mean=mean_vectorizer(model).fit(data['title']).transform(data['title'])\n",
    "data_mean.shape"
   ]
  },
  {
   "cell_type": "code",
   "execution_count": null,
   "metadata": {},
   "outputs": [],
   "source": [
    "TODO: что-то еще добавить??? А что с fasttext??"
   ]
  },
  {
   "cell_type": "code",
   "execution_count": null,
   "metadata": {},
   "outputs": [],
   "source": []
  },
  {
   "cell_type": "markdown",
   "metadata": {},
   "source": [
    "----------------"
   ]
  }
 ],
 "metadata": {
  "kernelspec": {
   "display_name": "Python 3",
   "language": "python",
   "name": "python3"
  },
  "language_info": {
   "codemirror_mode": {
    "name": "ipython",
    "version": 3
   },
   "file_extension": ".py",
   "mimetype": "text/x-python",
   "name": "python",
   "nbconvert_exporter": "python",
   "pygments_lexer": "ipython3",
   "version": "3.6.8"
  }
 },
 "nbformat": 4,
 "nbformat_minor": 2
}
